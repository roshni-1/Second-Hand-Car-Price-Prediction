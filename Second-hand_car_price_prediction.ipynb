{
 "cells": [
  {
   "cell_type": "markdown",
   "id": "dd3e3154-58f1-4243-8ef4-427bb79ebc17",
   "metadata": {},
   "source": [
    "# Second Hand Car Price Prediction"
   ]
  },
  {
   "cell_type": "markdown",
   "id": "1e53072e-dba4-43f9-b6eb-f96e47537860",
   "metadata": {},
   "source": [
    "# Objective:\n",
    " The objective of the \"Second-hand Car Price Prediction\" project is to develop a machine learning model capable of accurately predicting the price of second-hand cars based on various features and specifications of the vehicles.\n",
    " \n",
    "**Datasource:** https://www.kaggle.com/datasets/sujithmandala/second-hand-car-price-prediction \n",
    "\n",
    "\n",
    "**Steps Taken**\n",
    "- Reading the data in python\n",
    "- Defining the problem statement\n",
    "- Identifying the Target variable\n",
    "- Looking at the distribution of Target variable\n",
    "- Basic Data exploration\n",
    "- Visual Exploratory Data Analysis for data distribution (Histogram and Barcharts)\n",
    "- Feature Selection based on data distribution\n",
    "- Detecting and removing outliers, handling missing values.\n",
    "- Visual correlation analysis\n",
    "- Statistical correlation analysis (Feature Selection)\n",
    "- Converting data to numeric for ML\n",
    "- Sampling and K-fold cross validation\n",
    "- Trying multiple Regression algorithms\n",
    "- Selecting the best Model\n",
    "- Deploying the best model in production"
   ]
  },
  {
   "cell_type": "markdown",
   "id": "85ff98a0-61fe-415f-8394-bc6ad5de2bbe",
   "metadata": {},
   "source": [
    "\n",
    "# The features available in the dataset are:-\n",
    "\n",
    "- **Car_ID:** A unique identifier for each car listing.\n",
    "- **Brand:** The brand or manufacturer of the car (e.g., Toyota, Honda, Ford, etc.).\n",
    "- **Model:** The model of the car (e.g., Camry, Civic, Mustang, etc.).\n",
    "- **Year:** The manufacturing year of the car.\n",
    "- **Kilometers_Driven:** The total kilometers driven by the car.\n",
    "- **Fuel_Type:** The type of fuel used by the car (e.g., Petrol, Diesel, Electric, etc.).\n",
    "- **Transmission:** The transmission type of the car (e.g., Manual, Automatic).\n",
    "- **Owner_Type:** The number of previous owners of the car (e.g., First, Second, Third).\n",
    "- **Mileage:** The fuel efficiency of the car in kilometers per liter.\n",
    "- **Engine:** The engine capacity of the car in CC (Cubic Centimeters).\n",
    "- **Power:** The maximum power output of the car in bhp (Brake Horsepower).\n",
    "- **Seats:** The number of seats available in the car.\n",
    "- **Price:** The selling price of the car in INR (Indian Rupees), which is the target variable to predict."
   ]
  },
  {
   "cell_type": "code",
   "execution_count": 108,
   "id": "4b8fefc6-2d32-4cb5-b119-0e7c08da1fa5",
   "metadata": {
    "tags": []
   },
   "outputs": [
    {
     "name": "stdout",
     "output_type": "stream",
     "text": [
      "Original shape of the dataset: (100, 13)\n",
      "Shape after deleting duplicate values in the dataset: (100, 12)\n"
     ]
    },
    {
     "data": {
      "text/html": [
       "<div>\n",
       "<style scoped>\n",
       "    .dataframe tbody tr th:only-of-type {\n",
       "        vertical-align: middle;\n",
       "    }\n",
       "\n",
       "    .dataframe tbody tr th {\n",
       "        vertical-align: top;\n",
       "    }\n",
       "\n",
       "    .dataframe thead th {\n",
       "        text-align: right;\n",
       "    }\n",
       "</style>\n",
       "<table border=\"1\" class=\"dataframe\">\n",
       "  <thead>\n",
       "    <tr style=\"text-align: right;\">\n",
       "      <th></th>\n",
       "      <th>Car_ID</th>\n",
       "      <th>Brand</th>\n",
       "      <th>Model</th>\n",
       "      <th>Year</th>\n",
       "      <th>Kilometers_Driven</th>\n",
       "      <th>Fuel_Type</th>\n",
       "      <th>Transmission</th>\n",
       "      <th>Owner_Type</th>\n",
       "      <th>Mileage</th>\n",
       "      <th>Engine</th>\n",
       "      <th>Power</th>\n",
       "      <th>Seats</th>\n",
       "      <th>Price</th>\n",
       "    </tr>\n",
       "  </thead>\n",
       "  <tbody>\n",
       "    <tr>\n",
       "      <th>0</th>\n",
       "      <td>1</td>\n",
       "      <td>Toyota</td>\n",
       "      <td>Corolla</td>\n",
       "      <td>2018</td>\n",
       "      <td>50000</td>\n",
       "      <td>Petrol</td>\n",
       "      <td>Manual</td>\n",
       "      <td>First</td>\n",
       "      <td>15</td>\n",
       "      <td>1498</td>\n",
       "      <td>108</td>\n",
       "      <td>5</td>\n",
       "      <td>800000</td>\n",
       "    </tr>\n",
       "    <tr>\n",
       "      <th>1</th>\n",
       "      <td>2</td>\n",
       "      <td>Honda</td>\n",
       "      <td>Civic</td>\n",
       "      <td>2019</td>\n",
       "      <td>40000</td>\n",
       "      <td>Petrol</td>\n",
       "      <td>Automatic</td>\n",
       "      <td>Second</td>\n",
       "      <td>17</td>\n",
       "      <td>1597</td>\n",
       "      <td>140</td>\n",
       "      <td>5</td>\n",
       "      <td>1000000</td>\n",
       "    </tr>\n",
       "    <tr>\n",
       "      <th>2</th>\n",
       "      <td>3</td>\n",
       "      <td>Ford</td>\n",
       "      <td>Mustang</td>\n",
       "      <td>2017</td>\n",
       "      <td>20000</td>\n",
       "      <td>Petrol</td>\n",
       "      <td>Automatic</td>\n",
       "      <td>First</td>\n",
       "      <td>10</td>\n",
       "      <td>4951</td>\n",
       "      <td>395</td>\n",
       "      <td>4</td>\n",
       "      <td>2500000</td>\n",
       "    </tr>\n",
       "    <tr>\n",
       "      <th>3</th>\n",
       "      <td>4</td>\n",
       "      <td>Maruti</td>\n",
       "      <td>Swift</td>\n",
       "      <td>2020</td>\n",
       "      <td>30000</td>\n",
       "      <td>Diesel</td>\n",
       "      <td>Manual</td>\n",
       "      <td>Third</td>\n",
       "      <td>23</td>\n",
       "      <td>1248</td>\n",
       "      <td>74</td>\n",
       "      <td>5</td>\n",
       "      <td>600000</td>\n",
       "    </tr>\n",
       "    <tr>\n",
       "      <th>4</th>\n",
       "      <td>5</td>\n",
       "      <td>Hyundai</td>\n",
       "      <td>Sonata</td>\n",
       "      <td>2016</td>\n",
       "      <td>60000</td>\n",
       "      <td>Diesel</td>\n",
       "      <td>Automatic</td>\n",
       "      <td>Second</td>\n",
       "      <td>18</td>\n",
       "      <td>1999</td>\n",
       "      <td>194</td>\n",
       "      <td>5</td>\n",
       "      <td>850000</td>\n",
       "    </tr>\n",
       "    <tr>\n",
       "      <th>5</th>\n",
       "      <td>6</td>\n",
       "      <td>Tata</td>\n",
       "      <td>Nexon</td>\n",
       "      <td>2019</td>\n",
       "      <td>35000</td>\n",
       "      <td>Petrol</td>\n",
       "      <td>Manual</td>\n",
       "      <td>First</td>\n",
       "      <td>17</td>\n",
       "      <td>1198</td>\n",
       "      <td>108</td>\n",
       "      <td>5</td>\n",
       "      <td>750000</td>\n",
       "    </tr>\n",
       "    <tr>\n",
       "      <th>6</th>\n",
       "      <td>7</td>\n",
       "      <td>Mahindra</td>\n",
       "      <td>Scorpio</td>\n",
       "      <td>2018</td>\n",
       "      <td>45000</td>\n",
       "      <td>Diesel</td>\n",
       "      <td>Automatic</td>\n",
       "      <td>Second</td>\n",
       "      <td>15</td>\n",
       "      <td>2179</td>\n",
       "      <td>140</td>\n",
       "      <td>7</td>\n",
       "      <td>900000</td>\n",
       "    </tr>\n",
       "    <tr>\n",
       "      <th>7</th>\n",
       "      <td>8</td>\n",
       "      <td>Volkswagen</td>\n",
       "      <td>Polo</td>\n",
       "      <td>2020</td>\n",
       "      <td>25000</td>\n",
       "      <td>Petrol</td>\n",
       "      <td>Automatic</td>\n",
       "      <td>First</td>\n",
       "      <td>18</td>\n",
       "      <td>999</td>\n",
       "      <td>76</td>\n",
       "      <td>5</td>\n",
       "      <td>650000</td>\n",
       "    </tr>\n",
       "    <tr>\n",
       "      <th>8</th>\n",
       "      <td>9</td>\n",
       "      <td>Audi</td>\n",
       "      <td>A4</td>\n",
       "      <td>2017</td>\n",
       "      <td>30000</td>\n",
       "      <td>Diesel</td>\n",
       "      <td>Automatic</td>\n",
       "      <td>First</td>\n",
       "      <td>18</td>\n",
       "      <td>1968</td>\n",
       "      <td>187</td>\n",
       "      <td>5</td>\n",
       "      <td>2200000</td>\n",
       "    </tr>\n",
       "    <tr>\n",
       "      <th>9</th>\n",
       "      <td>10</td>\n",
       "      <td>BMW</td>\n",
       "      <td>X1</td>\n",
       "      <td>2019</td>\n",
       "      <td>20000</td>\n",
       "      <td>Diesel</td>\n",
       "      <td>Automatic</td>\n",
       "      <td>Second</td>\n",
       "      <td>20</td>\n",
       "      <td>1995</td>\n",
       "      <td>190</td>\n",
       "      <td>5</td>\n",
       "      <td>2700000</td>\n",
       "    </tr>\n",
       "  </tbody>\n",
       "</table>\n",
       "</div>"
      ],
      "text/plain": [
       "   Car_ID       Brand    Model  Year  Kilometers_Driven Fuel_Type  \\\n",
       "0       1      Toyota  Corolla  2018              50000    Petrol   \n",
       "1       2       Honda    Civic  2019              40000    Petrol   \n",
       "2       3        Ford  Mustang  2017              20000    Petrol   \n",
       "3       4      Maruti    Swift  2020              30000    Diesel   \n",
       "4       5     Hyundai   Sonata  2016              60000    Diesel   \n",
       "5       6        Tata    Nexon  2019              35000    Petrol   \n",
       "6       7    Mahindra  Scorpio  2018              45000    Diesel   \n",
       "7       8  Volkswagen     Polo  2020              25000    Petrol   \n",
       "8       9        Audi       A4  2017              30000    Diesel   \n",
       "9      10         BMW       X1  2019              20000    Diesel   \n",
       "\n",
       "  Transmission Owner_Type  Mileage  Engine  Power  Seats    Price  \n",
       "0       Manual      First       15    1498    108      5   800000  \n",
       "1    Automatic     Second       17    1597    140      5  1000000  \n",
       "2    Automatic      First       10    4951    395      4  2500000  \n",
       "3       Manual      Third       23    1248     74      5   600000  \n",
       "4    Automatic     Second       18    1999    194      5   850000  \n",
       "5       Manual      First       17    1198    108      5   750000  \n",
       "6    Automatic     Second       15    2179    140      7   900000  \n",
       "7    Automatic      First       18     999     76      5   650000  \n",
       "8    Automatic      First       18    1968    187      5  2200000  \n",
       "9    Automatic     Second       20    1995    190      5  2700000  "
      ]
     },
     "execution_count": 108,
     "metadata": {},
     "output_type": "execute_result"
    }
   ],
   "source": [
    "# loading and reasing the dataset\n",
    "import pandas as pd\n",
    "import numpy as np\n",
    "df=pd.read_csv(\"C:\\\\Users\\\\irosh\\\\Downloads\\\\cars.csv\")\n",
    "print('Original shape of the dataset:', df.shape)\n",
    "\n",
    "# Removing duplicate rows \n",
    "df=df.drop_duplicates()\n",
    "print('Shape after deleting duplicate values in the dataset:', df.shape)\n",
    "\n",
    "# Printing sample data\n",
    "# Start observing the Quantitative/Categorical/Qualitative variables\n",
    "df.head(10)"
   ]
  },
  {
   "cell_type": "code",
   "execution_count": 3,
   "id": "66eeb677-36e6-4e92-81d5-44ea182fee41",
   "metadata": {
    "tags": []
   },
   "outputs": [],
   "source": [
    "# Supressing the warning messages\n",
    "import warnings\n",
    "warnings.filterwarnings('ignore')"
   ]
  },
  {
   "cell_type": "markdown",
   "id": "f391a887-4d08-4de1-8a86-eff13c56d771",
   "metadata": {},
   "source": [
    "# Basic Data Exploration\n",
    "This step is performed to guage the overall data. The volume of data, the types of columns present in the data. Initial assessment of the data should be done to identify which columns are Quantitative, Categorical or Qualitative.\n",
    "\n",
    "For basic statistical summary we use the following functions: \n",
    "\n",
    "- **head() :** This helps to see a few sample rows of the data\n",
    "- **info() :** This provides the summarized information of the data\n",
    "- **describe() :**  This provides the descriptive statistical details of the data\n",
    "- **nunique() :** This helps us to identify if a column is categorical or continuous"
   ]
  },
  {
   "cell_type": "code",
   "execution_count": 8,
   "id": "e8765693-5586-4b14-a225-2299073df0ee",
   "metadata": {
    "tags": []
   },
   "outputs": [
    {
     "name": "stdout",
     "output_type": "stream",
     "text": [
      "<class 'pandas.core.frame.DataFrame'>\n",
      "RangeIndex: 100 entries, 0 to 99\n",
      "Data columns (total 13 columns):\n",
      " #   Column             Non-Null Count  Dtype \n",
      "---  ------             --------------  ----- \n",
      " 0   Car_ID             100 non-null    int64 \n",
      " 1   Brand              100 non-null    object\n",
      " 2   Model              100 non-null    object\n",
      " 3   Year               100 non-null    int64 \n",
      " 4   Kilometers_Driven  100 non-null    int64 \n",
      " 5   Fuel_Type          100 non-null    object\n",
      " 6   Transmission       100 non-null    object\n",
      " 7   Owner_Type         100 non-null    object\n",
      " 8   Mileage            100 non-null    int64 \n",
      " 9   Engine             100 non-null    int64 \n",
      " 10  Power              100 non-null    int64 \n",
      " 11  Seats              100 non-null    int64 \n",
      " 12  Price              100 non-null    int64 \n",
      "dtypes: int64(8), object(5)\n",
      "memory usage: 10.3+ KB\n"
     ]
    }
   ],
   "source": [
    "df.info()"
   ]
  },
  {
   "cell_type": "code",
   "execution_count": 10,
   "id": "8c39aaf8-ef6d-4e5f-a487-a0db20cc7834",
   "metadata": {
    "tags": []
   },
   "outputs": [
    {
     "data": {
      "text/html": [
       "<div>\n",
       "<style scoped>\n",
       "    .dataframe tbody tr th:only-of-type {\n",
       "        vertical-align: middle;\n",
       "    }\n",
       "\n",
       "    .dataframe tbody tr th {\n",
       "        vertical-align: top;\n",
       "    }\n",
       "\n",
       "    .dataframe thead th {\n",
       "        text-align: right;\n",
       "    }\n",
       "</style>\n",
       "<table border=\"1\" class=\"dataframe\">\n",
       "  <thead>\n",
       "    <tr style=\"text-align: right;\">\n",
       "      <th></th>\n",
       "      <th>Car_ID</th>\n",
       "      <th>Brand</th>\n",
       "      <th>Model</th>\n",
       "      <th>Year</th>\n",
       "      <th>Kilometers_Driven</th>\n",
       "      <th>Fuel_Type</th>\n",
       "      <th>Transmission</th>\n",
       "      <th>Owner_Type</th>\n",
       "      <th>Mileage</th>\n",
       "      <th>Engine</th>\n",
       "      <th>Power</th>\n",
       "      <th>Seats</th>\n",
       "      <th>Price</th>\n",
       "    </tr>\n",
       "  </thead>\n",
       "  <tbody>\n",
       "    <tr>\n",
       "      <th>count</th>\n",
       "      <td>100.000000</td>\n",
       "      <td>100</td>\n",
       "      <td>100</td>\n",
       "      <td>100.00000</td>\n",
       "      <td>100.000000</td>\n",
       "      <td>100</td>\n",
       "      <td>100</td>\n",
       "      <td>100</td>\n",
       "      <td>100.000000</td>\n",
       "      <td>100.000000</td>\n",
       "      <td>100.000000</td>\n",
       "      <td>100.000000</td>\n",
       "      <td>1.000000e+02</td>\n",
       "    </tr>\n",
       "    <tr>\n",
       "      <th>unique</th>\n",
       "      <td>NaN</td>\n",
       "      <td>11</td>\n",
       "      <td>58</td>\n",
       "      <td>NaN</td>\n",
       "      <td>NaN</td>\n",
       "      <td>2</td>\n",
       "      <td>2</td>\n",
       "      <td>3</td>\n",
       "      <td>NaN</td>\n",
       "      <td>NaN</td>\n",
       "      <td>NaN</td>\n",
       "      <td>NaN</td>\n",
       "      <td>NaN</td>\n",
       "    </tr>\n",
       "    <tr>\n",
       "      <th>top</th>\n",
       "      <td>NaN</td>\n",
       "      <td>Ford</td>\n",
       "      <td>Mustang</td>\n",
       "      <td>NaN</td>\n",
       "      <td>NaN</td>\n",
       "      <td>Petrol</td>\n",
       "      <td>Automatic</td>\n",
       "      <td>First</td>\n",
       "      <td>NaN</td>\n",
       "      <td>NaN</td>\n",
       "      <td>NaN</td>\n",
       "      <td>NaN</td>\n",
       "      <td>NaN</td>\n",
       "    </tr>\n",
       "    <tr>\n",
       "      <th>freq</th>\n",
       "      <td>NaN</td>\n",
       "      <td>11</td>\n",
       "      <td>3</td>\n",
       "      <td>NaN</td>\n",
       "      <td>NaN</td>\n",
       "      <td>52</td>\n",
       "      <td>57</td>\n",
       "      <td>44</td>\n",
       "      <td>NaN</td>\n",
       "      <td>NaN</td>\n",
       "      <td>NaN</td>\n",
       "      <td>NaN</td>\n",
       "      <td>NaN</td>\n",
       "    </tr>\n",
       "    <tr>\n",
       "      <th>mean</th>\n",
       "      <td>50.500000</td>\n",
       "      <td>NaN</td>\n",
       "      <td>NaN</td>\n",
       "      <td>2018.39000</td>\n",
       "      <td>28150.000000</td>\n",
       "      <td>NaN</td>\n",
       "      <td>NaN</td>\n",
       "      <td>NaN</td>\n",
       "      <td>17.210000</td>\n",
       "      <td>1855.230000</td>\n",
       "      <td>158.130000</td>\n",
       "      <td>5.230000</td>\n",
       "      <td>1.574000e+06</td>\n",
       "    </tr>\n",
       "    <tr>\n",
       "      <th>std</th>\n",
       "      <td>29.011492</td>\n",
       "      <td>NaN</td>\n",
       "      <td>NaN</td>\n",
       "      <td>1.17116</td>\n",
       "      <td>9121.375716</td>\n",
       "      <td>NaN</td>\n",
       "      <td>NaN</td>\n",
       "      <td>NaN</td>\n",
       "      <td>3.309902</td>\n",
       "      <td>631.311475</td>\n",
       "      <td>76.968137</td>\n",
       "      <td>0.750151</td>\n",
       "      <td>1.000265e+06</td>\n",
       "    </tr>\n",
       "    <tr>\n",
       "      <th>min</th>\n",
       "      <td>1.000000</td>\n",
       "      <td>NaN</td>\n",
       "      <td>NaN</td>\n",
       "      <td>2016.00000</td>\n",
       "      <td>10000.000000</td>\n",
       "      <td>NaN</td>\n",
       "      <td>NaN</td>\n",
       "      <td>NaN</td>\n",
       "      <td>10.000000</td>\n",
       "      <td>999.000000</td>\n",
       "      <td>68.000000</td>\n",
       "      <td>4.000000</td>\n",
       "      <td>4.500000e+05</td>\n",
       "    </tr>\n",
       "    <tr>\n",
       "      <th>25%</th>\n",
       "      <td>25.750000</td>\n",
       "      <td>NaN</td>\n",
       "      <td>NaN</td>\n",
       "      <td>2017.75000</td>\n",
       "      <td>22000.000000</td>\n",
       "      <td>NaN</td>\n",
       "      <td>NaN</td>\n",
       "      <td>NaN</td>\n",
       "      <td>15.000000</td>\n",
       "      <td>1462.000000</td>\n",
       "      <td>103.000000</td>\n",
       "      <td>5.000000</td>\n",
       "      <td>7.000000e+05</td>\n",
       "    </tr>\n",
       "    <tr>\n",
       "      <th>50%</th>\n",
       "      <td>50.500000</td>\n",
       "      <td>NaN</td>\n",
       "      <td>NaN</td>\n",
       "      <td>2018.00000</td>\n",
       "      <td>27000.000000</td>\n",
       "      <td>NaN</td>\n",
       "      <td>NaN</td>\n",
       "      <td>NaN</td>\n",
       "      <td>17.000000</td>\n",
       "      <td>1774.000000</td>\n",
       "      <td>148.000000</td>\n",
       "      <td>5.000000</td>\n",
       "      <td>1.300000e+06</td>\n",
       "    </tr>\n",
       "    <tr>\n",
       "      <th>75%</th>\n",
       "      <td>75.250000</td>\n",
       "      <td>NaN</td>\n",
       "      <td>NaN</td>\n",
       "      <td>2019.00000</td>\n",
       "      <td>32000.000000</td>\n",
       "      <td>NaN</td>\n",
       "      <td>NaN</td>\n",
       "      <td>NaN</td>\n",
       "      <td>19.000000</td>\n",
       "      <td>2143.000000</td>\n",
       "      <td>187.000000</td>\n",
       "      <td>5.000000</td>\n",
       "      <td>2.500000e+06</td>\n",
       "    </tr>\n",
       "    <tr>\n",
       "      <th>max</th>\n",
       "      <td>100.000000</td>\n",
       "      <td>NaN</td>\n",
       "      <td>NaN</td>\n",
       "      <td>2021.00000</td>\n",
       "      <td>60000.000000</td>\n",
       "      <td>NaN</td>\n",
       "      <td>NaN</td>\n",
       "      <td>NaN</td>\n",
       "      <td>25.000000</td>\n",
       "      <td>4951.000000</td>\n",
       "      <td>396.000000</td>\n",
       "      <td>7.000000</td>\n",
       "      <td>4.000000e+06</td>\n",
       "    </tr>\n",
       "  </tbody>\n",
       "</table>\n",
       "</div>"
      ],
      "text/plain": [
       "            Car_ID Brand    Model        Year  Kilometers_Driven Fuel_Type  \\\n",
       "count   100.000000   100      100   100.00000         100.000000       100   \n",
       "unique         NaN    11       58         NaN                NaN         2   \n",
       "top            NaN  Ford  Mustang         NaN                NaN    Petrol   \n",
       "freq           NaN    11        3         NaN                NaN        52   \n",
       "mean     50.500000   NaN      NaN  2018.39000       28150.000000       NaN   \n",
       "std      29.011492   NaN      NaN     1.17116        9121.375716       NaN   \n",
       "min       1.000000   NaN      NaN  2016.00000       10000.000000       NaN   \n",
       "25%      25.750000   NaN      NaN  2017.75000       22000.000000       NaN   \n",
       "50%      50.500000   NaN      NaN  2018.00000       27000.000000       NaN   \n",
       "75%      75.250000   NaN      NaN  2019.00000       32000.000000       NaN   \n",
       "max     100.000000   NaN      NaN  2021.00000       60000.000000       NaN   \n",
       "\n",
       "       Transmission Owner_Type     Mileage       Engine       Power  \\\n",
       "count           100        100  100.000000   100.000000  100.000000   \n",
       "unique            2          3         NaN          NaN         NaN   \n",
       "top       Automatic      First         NaN          NaN         NaN   \n",
       "freq             57         44         NaN          NaN         NaN   \n",
       "mean            NaN        NaN   17.210000  1855.230000  158.130000   \n",
       "std             NaN        NaN    3.309902   631.311475   76.968137   \n",
       "min             NaN        NaN   10.000000   999.000000   68.000000   \n",
       "25%             NaN        NaN   15.000000  1462.000000  103.000000   \n",
       "50%             NaN        NaN   17.000000  1774.000000  148.000000   \n",
       "75%             NaN        NaN   19.000000  2143.000000  187.000000   \n",
       "max             NaN        NaN   25.000000  4951.000000  396.000000   \n",
       "\n",
       "             Seats         Price  \n",
       "count   100.000000  1.000000e+02  \n",
       "unique         NaN           NaN  \n",
       "top            NaN           NaN  \n",
       "freq           NaN           NaN  \n",
       "mean      5.230000  1.574000e+06  \n",
       "std       0.750151  1.000265e+06  \n",
       "min       4.000000  4.500000e+05  \n",
       "25%       5.000000  7.000000e+05  \n",
       "50%       5.000000  1.300000e+06  \n",
       "75%       5.000000  2.500000e+06  \n",
       "max       7.000000  4.000000e+06  "
      ]
     },
     "execution_count": 10,
     "metadata": {},
     "output_type": "execute_result"
    }
   ],
   "source": [
    "# Descriptive Statistics\n",
    "df.describe(include='all')"
   ]
  },
  {
   "cell_type": "code",
   "execution_count": 12,
   "id": "4e70ceef-7ebb-4f03-98df-acc97ec67dee",
   "metadata": {
    "tags": []
   },
   "outputs": [
    {
     "data": {
      "text/plain": [
       "Car_ID               100\n",
       "Brand                 11\n",
       "Model                 58\n",
       "Year                   6\n",
       "Kilometers_Driven     18\n",
       "Fuel_Type              2\n",
       "Transmission           2\n",
       "Owner_Type             3\n",
       "Mileage               15\n",
       "Engine                36\n",
       "Power                 40\n",
       "Seats                  3\n",
       "Price                 31\n",
       "dtype: int64"
      ]
     },
     "execution_count": 12,
     "metadata": {},
     "output_type": "execute_result"
    }
   ],
   "source": [
    "\n",
    "df.nunique()"
   ]
  },
  {
   "cell_type": "markdown",
   "id": "0ffe5103-5608-4198-81db-975ec4889a56",
   "metadata": {},
   "source": [
    "# Looking at the distribution of Target variable\n",
    "If target variable's distribution is too skewed then the predictive modeling will not be possible.\n",
    "Bell curve is desirable but slightly positive skew or negative skew is also fine\n",
    "When performing Regression, make sure the histogram looks like a bell curve or slight skewed version of it. Otherwise it impacts the Machine Learning algorithms ability to learn all the scenarios.If the target variable's distribution is highly skewed, it can hinder the effectiveness of predictive modeling. Ideally, a bell-shaped distribution is preferred, but a distribution with a slight positive or negative skew is also acceptable. When performing regression, it's important to ensure that the histogram of the target variable resembles a bell curve or a slightly skewed version of it. If the distribution is too skewed, it can negatively impact the machine learning algorithm's ability to accurately learn and generalize from the data.\n",
    "\n",
    "\n",
    "\n",
    "\n",
    "\n",
    "\n",
    "\n"
   ]
  },
  {
   "cell_type": "code",
   "execution_count": 14,
   "id": "be1f27c6-c199-4198-aa97-42063b978401",
   "metadata": {
    "tags": []
   },
   "outputs": [
    {
     "data": {
      "text/plain": [
       "<Axes: >"
      ]
     },
     "execution_count": 14,
     "metadata": {},
     "output_type": "execute_result"
    },
    {
     "data": {
      "image/png": "[encoded data removed]",
      "text/plain": [
       "<Figure size 640x480 with 1 Axes>"
      ]
     },
     "metadata": {},
     "output_type": "display_data"
    }
   ],
   "source": [
    "%matplotlib inline\n",
    "# Bar chart\n",
    "df['Price'].hist()"
   ]
  },
  {
   "cell_type": "code",
   "execution_count": 17,
   "id": "52254b9a-77c0-4e22-b128-b6fac1e07e40",
   "metadata": {
    "tags": []
   },
   "outputs": [
    {
     "data": {
      "text/html": [
       "<div>\n",
       "<style scoped>\n",
       "    .dataframe tbody tr th:only-of-type {\n",
       "        vertical-align: middle;\n",
       "    }\n",
       "\n",
       "    .dataframe tbody tr th {\n",
       "        vertical-align: top;\n",
       "    }\n",
       "\n",
       "    .dataframe thead th {\n",
       "        text-align: right;\n",
       "    }\n",
       "</style>\n",
       "<table border=\"1\" class=\"dataframe\">\n",
       "  <thead>\n",
       "    <tr style=\"text-align: right;\">\n",
       "      <th></th>\n",
       "      <th>Brand</th>\n",
       "      <th>Year</th>\n",
       "      <th>Kilometers_Driven</th>\n",
       "      <th>Fuel_Type</th>\n",
       "      <th>Transmission</th>\n",
       "      <th>Owner_Type</th>\n",
       "      <th>Mileage</th>\n",
       "      <th>Engine</th>\n",
       "      <th>Power</th>\n",
       "      <th>Seats</th>\n",
       "      <th>Price</th>\n",
       "    </tr>\n",
       "  </thead>\n",
       "  <tbody>\n",
       "    <tr>\n",
       "      <th>0</th>\n",
       "      <td>Toyota</td>\n",
       "      <td>2018</td>\n",
       "      <td>50000</td>\n",
       "      <td>Petrol</td>\n",
       "      <td>Manual</td>\n",
       "      <td>First</td>\n",
       "      <td>15</td>\n",
       "      <td>1498</td>\n",
       "      <td>108</td>\n",
       "      <td>5</td>\n",
       "      <td>800000</td>\n",
       "    </tr>\n",
       "    <tr>\n",
       "      <th>1</th>\n",
       "      <td>Honda</td>\n",
       "      <td>2019</td>\n",
       "      <td>40000</td>\n",
       "      <td>Petrol</td>\n",
       "      <td>Automatic</td>\n",
       "      <td>Second</td>\n",
       "      <td>17</td>\n",
       "      <td>1597</td>\n",
       "      <td>140</td>\n",
       "      <td>5</td>\n",
       "      <td>1000000</td>\n",
       "    </tr>\n",
       "    <tr>\n",
       "      <th>2</th>\n",
       "      <td>Ford</td>\n",
       "      <td>2017</td>\n",
       "      <td>20000</td>\n",
       "      <td>Petrol</td>\n",
       "      <td>Automatic</td>\n",
       "      <td>First</td>\n",
       "      <td>10</td>\n",
       "      <td>4951</td>\n",
       "      <td>395</td>\n",
       "      <td>4</td>\n",
       "      <td>2500000</td>\n",
       "    </tr>\n",
       "    <tr>\n",
       "      <th>3</th>\n",
       "      <td>Maruti</td>\n",
       "      <td>2020</td>\n",
       "      <td>30000</td>\n",
       "      <td>Diesel</td>\n",
       "      <td>Manual</td>\n",
       "      <td>Third</td>\n",
       "      <td>23</td>\n",
       "      <td>1248</td>\n",
       "      <td>74</td>\n",
       "      <td>5</td>\n",
       "      <td>600000</td>\n",
       "    </tr>\n",
       "    <tr>\n",
       "      <th>4</th>\n",
       "      <td>Hyundai</td>\n",
       "      <td>2016</td>\n",
       "      <td>60000</td>\n",
       "      <td>Diesel</td>\n",
       "      <td>Automatic</td>\n",
       "      <td>Second</td>\n",
       "      <td>18</td>\n",
       "      <td>1999</td>\n",
       "      <td>194</td>\n",
       "      <td>5</td>\n",
       "      <td>850000</td>\n",
       "    </tr>\n",
       "  </tbody>\n",
       "</table>\n",
       "</div>"
      ],
      "text/plain": [
       "     Brand  Year  Kilometers_Driven Fuel_Type Transmission Owner_Type  \\\n",
       "0   Toyota  2018              50000    Petrol       Manual      First   \n",
       "1    Honda  2019              40000    Petrol    Automatic     Second   \n",
       "2     Ford  2017              20000    Petrol    Automatic      First   \n",
       "3   Maruti  2020              30000    Diesel       Manual      Third   \n",
       "4  Hyundai  2016              60000    Diesel    Automatic     Second   \n",
       "\n",
       "   Mileage  Engine  Power  Seats    Price  \n",
       "0       15    1498    108      5   800000  \n",
       "1       17    1597    140      5  1000000  \n",
       "2       10    4951    395      4  2500000  \n",
       "3       23    1248     74      5   600000  \n",
       "4       18    1999    194      5   850000  "
      ]
     },
     "execution_count": 17,
     "metadata": {},
     "output_type": "execute_result"
    }
   ],
   "source": [
    "df=df.drop(['Model','Car_ID'], axis=1)\n",
    "df.head()"
   ]
  },
  {
   "cell_type": "code",
   "execution_count": 703,
   "id": "9e36d87c-30d4-4063-903c-0c42af9a0fc4",
   "metadata": {},
   "outputs": [
    {
     "data": {
      "text/plain": [
       "Brand                11\n",
       "Year                  6\n",
       "Kilometers_Driven    18\n",
       "Fuel_Type             2\n",
       "Transmission          2\n",
       "Owner_Type            3\n",
       "Mileage              15\n",
       "Engine               36\n",
       "Power                40\n",
       "Seats                 3\n",
       "Price                31\n",
       "dtype: int64"
      ]
     },
     "execution_count": 703,
     "metadata": {},
     "output_type": "execute_result"
    }
   ],
   "source": [
    "df.nunique()"
   ]
  },
  {
   "cell_type": "markdown",
   "id": "ab696221-428f-4d4c-9f6d-53f9abfb1095",
   "metadata": {},
   "source": [
    "# Basic Data Exploration Results\n"
   ]
  },
  {
   "cell_type": "markdown",
   "id": "834fd273-f73d-4e58-b28a-5b1d4f76af29",
   "metadata": {},
   "source": [
    "Based on the initial data exploration, a simple report can be created by noting observations for each column, thereby establishing an initial roadmap for further analysis.\n",
    "\n",
    "At this stage, the selected columns are not final; further analysis will be conducted to refine the list.\n",
    "\n",
    "**Categorical Variables:**  \n",
    "- *Brand, Year, Kilometers_Driven, Fuel_Type, Transmission, Owner_Type, Mileage, Seats*\n",
    "\n",
    "**Continuous Variables:**  \n",
    "- *Power, Engine, Price*\n",
    "\n",
    "**Visual Exploratory Data Analysis:**\n",
    "- For categorical variables, bar plots will be used.\n",
    "- For continuous variables, histograms will be used.\n",
    "\n",
    "To visualize the distribution of all the categorical predictor variables in the data, bar plots will be employed. Categorical variables can be identified by examining their unique values. Typically, a categorical variable has fewer than 20 unique values and shows repetition, indicating that the data can be grouped by these unique values.\n",
    "\n",
    "From the basic data exploration, six categorical predictors have been identified:\n",
    "\n",
    "**Categorical Predictors:**  \n",
    "- *Brand, Year, Kilometers_Driven, Fuel_Type, Transmission, Owner_Type, Mileage, Seats*\n",
    "\n",
    "Bar charts will be used to visualize how the data is distributed across these categorical columns."
   ]
  },
  {
   "cell_type": "code",
   "execution_count": 21,
   "id": "43b49af2-0426-4c91-8d26-c904130add1d",
   "metadata": {
    "tags": []
   },
   "outputs": [],
   "source": [
    "# The PlotBarCharts function allows you to generate bar charts for multiple categorical columns in one go. \n",
    "# Each column in the colsToPlot list will have its own subplot within a larger figure.\n",
    "\n",
    "\n",
    "def PlotBarCharts(inpData, colsToPlot):\n",
    "    %matplotlib inline\n",
    "    \n",
    "    import matplotlib.pyplot as plt\n",
    "    \n",
    "    # Generating multiple subplots\n",
    "    fig, subPlot=plt.subplots(nrows=len(colsToPlot), ncols=1, figsize=(10,60))\n",
    "    fig.suptitle('Bar charts of: '+ str(colsToPlot))\n",
    "\n",
    "    for colName, plotNumber in zip(colsToPlot, range(len(colsToPlot))):\n",
    "       df.groupby(colName).size().plot(kind='bar',ax=subPlot[plotNumber])"
   ]
  },
  {
   "cell_type": "code",
   "execution_count": 23,
   "id": "b2455834-5b25-4881-b003-2a5d24bf69af",
   "metadata": {
    "tags": []
   },
   "outputs": [
    {
     "data": {
      "image/png": "[encoded data removed]",
      "text/plain": [
       "<Figure size 1000x6000 with 8 Axes>"
      ]
     },
     "metadata": {},
     "output_type": "display_data"
    }
   ],
   "source": [
    "# Calling the function\n",
    "PlotBarCharts(inpData=df, colsToPlot=[ 'Brand', 'Year', 'Kilometers_Driven', 'Fuel_Type', 'Transmission', 'Owner_Type', 'Mileage', 'Seats'])"
   ]
  },
  {
   "cell_type": "markdown",
   "id": "2ba8b435-fd04-4443-b999-498e02e55b57",
   "metadata": {},
   "source": [
    "# Bar Charts Interpretation\n",
    "\n",
    "These bar charts display the frequencies of each category on the Y-axis and the category names on the X-axis.\n",
    "\n",
    "In an ideal bar chart, each category should have a comparable frequency, indicating that there are sufficient data points for each category for the machine learning algorithm to learn effectively.\n",
    "\n",
    "However, if a bar chart reveals a highly skewed distribution, where one category is overwhelmingly dominant and the other categories are represented by very few data points, such columns may not be very useful for machine learning. This will be further confirmed during the correlation analysis, where a final decision will be made on whether to retain or discard the column.\n",
    "\n",
    "**Selected Categorical Variables:**  \n",
    "All the categorical variables are selected for further analysis:\n",
    "- *Brand, Year, Kilometers_Driven, Fuel_Type, Transmission, Owner_Type, Mileage, Seats*"
   ]
  },
  {
   "cell_type": "markdown",
   "id": "52d70f42-1e5f-47ba-a078-c8294ab93c95",
   "metadata": {},
   "source": [
    "# Visualizing distribution of all the Continuous Predictor variables in the data using histograms\n",
    "Based on the Basic Data Exploration, Three continuous predictor variables Power,Engine, Price"
   ]
  },
  {
   "cell_type": "code",
   "execution_count": 27,
   "id": "9c8b5bbd-fc6a-4d9b-b24f-a7dcd0383d5b",
   "metadata": {
    "tags": []
   },
   "outputs": [
    {
     "data": {
      "text/plain": [
       "array([[<Axes: title={'center': 'Power'}>,\n",
       "        <Axes: title={'center': 'Engine'}>],\n",
       "       [<Axes: title={'center': 'Price'}>, <Axes: >]], dtype=object)"
      ]
     },
     "execution_count": 27,
     "metadata": {},
     "output_type": "execute_result"
    },
    {
     "data": {
      "image/png": "[encoded data removed]",
      "text/plain": [
       "<Figure size 1800x1000 with 4 Axes>"
      ]
     },
     "metadata": {},
     "output_type": "display_data"
    }
   ],
   "source": [
    "# Plotting histograms of multiple columns together\n",
    "df.hist(['Power','Engine', 'Price'], figsize=(18,10))"
   ]
  },
  {
   "cell_type": "markdown",
   "id": "116bc2a8-d4bd-463a-9ae8-73a183c7327a",
   "metadata": {},
   "source": [
    "### Histogram Interpretation\n",
    "\n",
    "Histograms help visualize the distribution of data for a single continuous variable.\n",
    "\n",
    "The X-axis represents the range of values, while the Y-axis indicates the frequency of values within that range. For example, in the histogram for \"Rating,\" approximately 120 rows have values between 4 and 5.\n",
    "\n",
    "The ideal shape for a histogram is a bell curve or a slightly skewed bell curve. If the distribution is excessively skewed, it indicates the presence of outliers, which should be treated. If outlier treatment does not correct the skewness, the column should be reconsidered, and only if necessary, should it be rejected.\n",
    "\n",
    "**Selected Continuous Variables:**\n",
    "\n",
    "- **Power:** Selected. The distribution is satisfactory.\n",
    "- **Engine:** Selected. Outliers are observed beyond 3500; these need to be addressed.\n",
    "- **Price:** Selected. The distribution is satisfactory.\n",
    "\n",
    "**Outlier Treatment:**  \n",
    "Outliers are extreme values that deviate significantly from the rest of the data, often appearing as tails in the histogram.\n",
    "\n",
    "Outliers should be treated one column at a time, as the appropriate treatment may vary for each column.\n",
    "\n",
    "**Why Address Outliers?**  \n",
    "Outliers can bias the training of machine learning models. As the algorithm attempts to accommodate these extreme values, it may deviate from accurately modeling the majority of the data.\n",
    "\n",
    "There are two primary methods to handle outliers:\n",
    "\n",
    "1. **Option 1: Remove Outlier Records:** This is feasible if only a few rows are affected.\n",
    "2. **Option 2: Impute Outlier Values:** Replace outliers with a logical, business-relevant value. To determine the most appropriate replacement value, examine the histogram of the variable.\n",
    "\n",
    "In this case, we will treat the outliers in the \"Engine\" column."
   ]
  },
  {
   "cell_type": "code",
   "execution_count": 30,
   "id": "74b3105f-0ca9-4339-a66b-09f726d82d05",
   "metadata": {
    "tags": []
   },
   "outputs": [
    {
     "data": {
      "text/plain": [
       "1"
      ]
     },
     "execution_count": 30,
     "metadata": {},
     "output_type": "execute_result"
    }
   ],
   "source": [
    "# Counting the number of rows having outliers\n",
    "len(df['Engine'][df['Engine']>3500])"
   ]
  },
  {
   "cell_type": "code",
   "execution_count": 32,
   "id": "54df17dd-f2ee-4029-adca-3d8a9ced553f",
   "metadata": {
    "tags": []
   },
   "outputs": [
    {
     "data": {
      "text/plain": [
       "47    2998\n",
       "85    2998\n",
       "38    2996\n",
       "76    2996\n",
       "75    2993\n",
       "      ... \n",
       "79    1086\n",
       "41    1086\n",
       "42    1047\n",
       "80    1047\n",
       "7      999\n",
       "Name: Engine, Length: 99, dtype: int64"
      ]
     },
     "execution_count": 32,
     "metadata": {},
     "output_type": "execute_result"
    }
   ],
   "source": [
    "# Finding logical value near 3500\n",
    "df['Engine'][df['Engine']<3500].sort_values(ascending=False)"
   ]
  },
  {
   "cell_type": "code",
   "execution_count": 34,
   "id": "cba03efa-cdbe-47be-bce3-5acd833e7364",
   "metadata": {
    "tags": []
   },
   "outputs": [],
   "source": [
    "df['Engine'][df['Engine']>3500]=2998"
   ]
  },
  {
   "cell_type": "code",
   "execution_count": 36,
   "id": "2833c01c-5b9c-4419-adb9-c8223e6e2d34",
   "metadata": {
    "tags": []
   },
   "outputs": [
    {
     "data": {
      "text/plain": [
       "array([[<Axes: title={'center': 'Engine'}>]], dtype=object)"
      ]
     },
     "execution_count": 36,
     "metadata": {},
     "output_type": "execute_result"
    },
    {
     "data": {
      "image/png": "[encoded data removed]",
      "text/plain": [
       "<Figure size 1800x1000 with 1 Axes>"
      ]
     },
     "metadata": {},
     "output_type": "display_data"
    }
   ],
   "source": [
    "df.hist(['Engine'], figsize=(18,10))"
   ]
  },
  {
   "cell_type": "code",
   "execution_count": 38,
   "id": "861f5e9c-7acf-42de-853b-d0a4a0fd1d92",
   "metadata": {
    "scrolled": true,
    "tags": []
   },
   "outputs": [
    {
     "name": "stdout",
     "output_type": "stream",
     "text": [
      "Brand                0\n",
      "Year                 0\n",
      "Kilometers_Driven    0\n",
      "Fuel_Type            0\n",
      "Transmission         0\n",
      "Owner_Type           0\n",
      "Mileage              0\n",
      "Engine               0\n",
      "Power                0\n",
      "Seats                0\n",
      "Price                0\n",
      "dtype: int64\n"
     ]
    },
    {
     "data": {
      "text/plain": [
       "<Axes: >"
      ]
     },
     "execution_count": 38,
     "metadata": {},
     "output_type": "execute_result"
    },
    {
     "data": {
      "image/png": "[encoded data removed]",
      "text/plain": [
       "<Figure size 640x480 with 1 Axes>"
      ]
     },
     "metadata": {},
     "output_type": "display_data"
    }
   ],
   "source": [
    "# Finding how many missing values are there for each column\n",
    "print(df.isnull().sum())\n",
    "df.isnull().sum().plot(kind='bar') "
   ]
  },
  {
   "cell_type": "markdown",
   "id": "535d3943-a4ec-4b2f-aa03-fecdb105f195",
   "metadata": {},
   "source": [
    "## Feature Selection (Bi-Variate analysis)\n",
    "Now, it's time to finalize the selection of the best features (columns) that are most strongly correlated with the target variable. This can be achieved by directly measuring correlation values or through statistical tests like ANOVA or Chi-Square. However, it's also beneficial to visualize the relationship between the target variable and each predictor to gain a better understanding of the data.\n",
    "\n",
    "Below are the techniques used for visualizing the relationship between two variables, as well as methods for statistically measuring the strength of their relationship:\n",
    "\n",
    "**Visual Exploration of Relationships Between Variables:**\n",
    "- **Continuous vs. Continuous:** Scatter Plot\n",
    "- **Categorical vs. Continuous:** Box Plot\n",
    "- **Categorical vs. Categorical:** Grouped Bar Plots\n",
    "\n",
    "**Statistical Measurement of Relationship Strength:**\n",
    "- **Continuous vs. Continuous:** Correlation Matrix\n",
    "- **Categorical vs. Continuous:** ANOVA Test\n",
    "- **Categorical vs. Categorical:** Chi-Square Test\n",
    "\n",
    "In this case study, the target variable is continuous, so the following scenarios will be relevant:\n",
    "\n",
    "1. **Continuous Target Variable vs. Continuous Predictor**\n",
    "2. **Continuous Target Variable vs. Categorical Predictor**"
   ]
  },
  {
   "cell_type": "markdown",
   "id": "240319fa-1bef-41d3-9701-02c277b33515",
   "metadata": {},
   "source": [
    "## Relationship exploration: Continuous Vs Continuous -- Scatter Charts"
   ]
  },
  {
   "cell_type": "code",
   "execution_count": 41,
   "id": "a0f3abaf-29c6-4aa4-8d5b-5d50a0de5528",
   "metadata": {
    "tags": []
   },
   "outputs": [
    {
     "data": {
      "image/png": "[encoded data removed]",
      "text/plain": [
       "<Figure size 1000x500 with 1 Axes>"
      ]
     },
     "metadata": {},
     "output_type": "display_data"
    },
    {
     "data": {
      "image/png": "[encoded data removed]",
      "text/plain": [
       "<Figure size 1000x500 with 1 Axes>"
      ]
     },
     "metadata": {},
     "output_type": "display_data"
    }
   ],
   "source": [
    "ContinuousCols=['Power', 'Engine']\n",
    "\n",
    "# Plotting scatter chart for each predictor vs the target variable\n",
    "for predictor in ContinuousCols:\n",
    "    df.plot.scatter(x=predictor, y='Price', figsize=(10,5), title=predictor+\" VS \"+ 'Price')"
   ]
  },
  {
   "cell_type": "markdown",
   "id": "8fde106f-2ef8-4e8e-a65b-7161cafd6a5c",
   "metadata": {},
   "source": [
    "### Interpreting Scatter Charts: What to Look For\n",
    "\n",
    "When analyzing scatter charts, the primary focus should be on identifying any visible trends between the two variables. There are three potential scenarios to consider:\n",
    "\n",
    "1. **Increasing Trend:**  \n",
    "   - If the scatter plot shows an upward trend, it indicates a positive correlation between the variables. In simpler terms, as one variable increases, the other also increases. This positive relationship is beneficial for machine learning, as it suggests that the predictor is likely to be useful.\n",
    "\n",
    "2. **Decreasing Trend:**  \n",
    "   - If the scatter plot displays a downward trend, it indicates a negative correlation between the variables. In this case, as one variable increases, the other decreases. This inverse relationship is also advantageous for machine learning, as it implies that the predictor has a meaningful impact.\n",
    "\n",
    "3. **No Trend:**  \n",
    "   - If the scatter plot shows no clear upward or downward trend, it suggests that there is no significant correlation between the variables. Without a discernible relationship, the predictor may not be useful for machine learning purposes.\n",
    "\n",
    "By examining these scatter charts, you can gain valuable insights into whether a predictor is likely to be effective. To confirm your observations, you should also check the correlation value between the variables."
   ]
  },
  {
   "cell_type": "markdown",
   "id": "5be54e64-4861-4d04-8687-033010584db2",
   "metadata": {},
   "source": [
    "# Statistical Feature Selection\n",
    "To evaluate the relationship between continuous features, Pearson's correlation coefficient can be used. It is computed as the covariance between two features, \\(x\\) and \\(y\\) (numerator), divided by the product of their standard deviations (denominator).\n",
    "\n",
    "This measure is applicable only for numeric columns. Here’s what the correlation values indicate:\n",
    "\n",
    "- **Correlation between \\([-1,0)\\)**: Indicates an inverse relationship; the scatter plot will show a downward trend.\n",
    "- **Correlation between \\((0,1]\\)**: Indicates a direct relationship; the scatter plot will show an upward trend.\n",
    "- **Correlation near \\(\\{0\\}\\)**: Suggests no significant relationship; the scatter plot will not show a clear trend.\n",
    "\n",
    "A correlation value with an absolute magnitude greater than \\(0.5\\) suggests a strong relationship, regardless of the sign. By examining the correlations between the target variable and other predictor variables, we can identify which features are significantly related to the target variable."
   ]
  },
  {
   "cell_type": "code",
   "execution_count": 46,
   "id": "ed406402-c980-425a-9e22-3cb3b262d5bf",
   "metadata": {
    "tags": []
   },
   "outputs": [
    {
     "data": {
      "text/html": [
       "<div>\n",
       "<style scoped>\n",
       "    .dataframe tbody tr th:only-of-type {\n",
       "        vertical-align: middle;\n",
       "    }\n",
       "\n",
       "    .dataframe tbody tr th {\n",
       "        vertical-align: top;\n",
       "    }\n",
       "\n",
       "    .dataframe thead th {\n",
       "        text-align: right;\n",
       "    }\n",
       "</style>\n",
       "<table border=\"1\" class=\"dataframe\">\n",
       "  <thead>\n",
       "    <tr style=\"text-align: right;\">\n",
       "      <th></th>\n",
       "      <th>Engine</th>\n",
       "      <th>Power</th>\n",
       "      <th>Price</th>\n",
       "    </tr>\n",
       "  </thead>\n",
       "  <tbody>\n",
       "    <tr>\n",
       "      <th>Engine</th>\n",
       "      <td>1.000000</td>\n",
       "      <td>0.798683</td>\n",
       "      <td>0.771661</td>\n",
       "    </tr>\n",
       "    <tr>\n",
       "      <th>Power</th>\n",
       "      <td>0.798683</td>\n",
       "      <td>1.000000</td>\n",
       "      <td>0.856620</td>\n",
       "    </tr>\n",
       "    <tr>\n",
       "      <th>Price</th>\n",
       "      <td>0.771661</td>\n",
       "      <td>0.856620</td>\n",
       "      <td>1.000000</td>\n",
       "    </tr>\n",
       "  </tbody>\n",
       "</table>\n",
       "</div>"
      ],
      "text/plain": [
       "          Engine     Power     Price\n",
       "Engine  1.000000  0.798683  0.771661\n",
       "Power   0.798683  1.000000  0.856620\n",
       "Price   0.771661  0.856620  1.000000"
      ]
     },
     "execution_count": 46,
     "metadata": {},
     "output_type": "execute_result"
    }
   ],
   "source": [
    "# Calculating correlation matrix\n",
    "ContinuousCols=['Engine','Power', 'Price']\n",
    "\n",
    "# Creating the correlation matrix\n",
    "CorrelationData=df[ContinuousCols].corr()\n",
    "CorrelationData\n"
   ]
  },
  {
   "cell_type": "markdown",
   "id": "46279d38-6fbd-4fda-a064-9531ac9e7dec",
   "metadata": {},
   "source": [
    "### Engine and Power is corelated with price"
   ]
  },
  {
   "cell_type": "markdown",
   "id": "83f7c4a8-2878-465f-87e4-d8dce5592ea6",
   "metadata": {},
   "source": [
    "Relationship exploration: Categorical Vs Continuous -- Box Plots\n",
    "When the target variable is Continuous and the predictor variable is Categorical we analyze the relation using Boxplots and measure the strength of relation using Anova test"
   ]
  },
  {
   "cell_type": "code",
   "execution_count": 50,
   "id": "4adc8f51-70e8-47aa-b7c9-cf2426fbe521",
   "metadata": {
    "tags": []
   },
   "outputs": [
    {
     "data": {
      "image/png": "[encoded data removed]",
      "text/plain": [
       "<Figure size 5000x1000 with 8 Axes>"
      ]
     },
     "metadata": {},
     "output_type": "display_data"
    }
   ],
   "source": [
    "# Box plots for Categorical Target Variable \"Price\" and continuous predictors\n",
    "CategoricalColsList=['Brand', 'Year', 'Kilometers_Driven', 'Fuel_Type', 'Transmission', 'Owner_Type', 'Mileage', 'Seats']\n",
    "\n",
    "import matplotlib.pyplot as plt\n",
    "fig, PlotCanvas=plt.subplots(nrows=1, ncols=len(CategoricalColsList), figsize=(50,10))\n",
    "\n",
    "# Creating box plots for each continuous predictor against the Target Variable \"Price\"\n",
    "for PredictorCol , i in zip(CategoricalColsList, range(len(CategoricalColsList))):\n",
    "   df.boxplot(column='Price', by=PredictorCol, figsize=(5,5), vert=True, ax=PlotCanvas[i])"
   ]
  },
  {
   "cell_type": "markdown",
   "id": "a5ff4c22-a769-46da-afff-20122c70e886",
   "metadata": {},
   "source": [
    "# Box-Plots interpretation\n",
    "In box plots, we examine the distribution of a continuous predictor variable (on the Y-axis) across different categories (on the X-axis).\n",
    "\n",
    "- **If the distributions appear similar across categories (the boxes align horizontally)**, this suggests that the continuous variable has little to no effect on the target variable, indicating that the variables may not be correlated.\n",
    "\n",
    "- **Conversely, if the distributions differ across categories (the boxes are not aligned)**, it suggests that the continuous variable might be correlated with the target variable.\n",
    "\n",
    "In this dataset, most categorical predictors appear to be correlated with the target variable, except for \"Fueltype,\" \"Automatic,\" and \"MetColor,\" which seem less correlated as their boxes are closer together. This observation is further supported by the results of the ANOVA test."
   ]
  },
  {
   "cell_type": "markdown",
   "id": "88cd6bd4-ebfd-467f-948f-8c7bd3e715b1",
   "metadata": {},
   "source": [
    "# Statistical Feature Selection (Categorical Vs Continuous) using ANOVA test\n",
    "\n",
    "Analysis of Variance (ANOVA) is used to determine whether there is a significant relationship between a continuous variable and a categorical variable.\n",
    "\n",
    "**Assumption (H0)**: There is no relationship between the variables, meaning the average (mean) values of the continuous target variable are the same across all groups of the categorical predictor variable.\n",
    "\n",
    "**ANOVA Test Result**: Indicates the probability of the null hypothesis (H0) being true."
   ]
  },
  {
   "cell_type": "code",
   "execution_count": 54,
   "id": "841195f5-3d54-430b-b13f-f8d77d4c3484",
   "metadata": {
    "tags": []
   },
   "outputs": [],
   "source": [
    "# Defining a function to find the statistical relationship with all the categorical variables\n",
    "def FunctionAnova(inpData, TargetVariable, CategoricalPredictorList):\n",
    "    from scipy.stats import f_oneway\n",
    "\n",
    "    # Creating an empty list of final selected predictors\n",
    "    SelectedPredictors=[]\n",
    "    \n",
    "    print('##### ANOVA Results ##### \\n')\n",
    "    for predictor in CategoricalPredictorList:\n",
    "        CategoryGroupLists=inpData.groupby(predictor)[TargetVariable].apply(list)\n",
    "        AnovaResults = f_oneway(*CategoryGroupLists)\n",
    "        \n",
    "        # If the ANOVA P-Value is <0.05, that means we reject H0\n",
    "        if (AnovaResults[1] < 0.05):\n",
    "            print(predictor, 'is correlated with', TargetVariable, '| P-Value:', AnovaResults[1])\n",
    "            SelectedPredictors.append(predictor)\n",
    "        else:\n",
    "            # Accepting the H0 if the P value is more than 0.05\n",
    "            print(predictor, 'is NOT correlated with', TargetVariable, '| P-Value:', AnovaResults[1])\n",
    "    \n",
    "    return(SelectedPredictors)"
   ]
  },
  {
   "cell_type": "code",
   "execution_count": 56,
   "id": "828c9a91-cc53-446c-86c2-ac17e376cb73",
   "metadata": {
    "tags": []
   },
   "outputs": [
    {
     "name": "stdout",
     "output_type": "stream",
     "text": [
      "##### ANOVA Results ##### \n",
      "\n",
      "Brand is correlated with Price | P-Value: 1.7325717435533267e-23\n",
      "Year is correlated with Price | P-Value: 0.048187072917192694\n",
      "Kilometers_Driven is correlated with Price | P-Value: 0.000638336916775814\n",
      "Fuel_Type is NOT correlated with Price | P-Value: 0.07157824443581828\n",
      "Transmission is correlated with Price | P-Value: 1.123170161794828e-14\n",
      "Owner_Type is correlated with Price | P-Value: 0.00046475357674379464\n",
      "Mileage is correlated with Price | P-Value: 2.531870039021753e-06\n",
      "Seats is NOT correlated with Price | P-Value: 0.4890365189394963\n"
     ]
    },
    {
     "data": {
      "text/plain": [
       "['Brand', 'Year', 'Kilometers_Driven', 'Transmission', 'Owner_Type', 'Mileage']"
      ]
     },
     "execution_count": 56,
     "metadata": {},
     "output_type": "execute_result"
    }
   ],
   "source": [
    "# Calling the function to check which categorical variables are correlated with target\n",
    "CategoricalPredictorList=['Brand', 'Year', 'Kilometers_Driven', 'Fuel_Type', 'Transmission', 'Owner_Type', 'Mileage', 'Seats']\n",
    "FunctionAnova(inpData=df, \n",
    "              TargetVariable='Price', \n",
    "              CategoricalPredictorList=CategoricalPredictorList)"
   ]
  },
  {
   "cell_type": "markdown",
   "id": "0afe0c1d-ad4c-4c60-acf7-9c9e66220e26",
   "metadata": {},
   "source": [
    "Selecting final predictors for Machine Learning\n",
    "Based on the above tests, selecting the final columns for machine learning"
   ]
  },
  {
   "cell_type": "code",
   "execution_count": 59,
   "id": "24e3dd94-3e4b-4608-b737-3acabdd46715",
   "metadata": {
    "tags": []
   },
   "outputs": [
    {
     "data": {
      "text/html": [
       "<div>\n",
       "<style scoped>\n",
       "    .dataframe tbody tr th:only-of-type {\n",
       "        vertical-align: middle;\n",
       "    }\n",
       "\n",
       "    .dataframe tbody tr th {\n",
       "        vertical-align: top;\n",
       "    }\n",
       "\n",
       "    .dataframe thead th {\n",
       "        text-align: right;\n",
       "    }\n",
       "</style>\n",
       "<table border=\"1\" class=\"dataframe\">\n",
       "  <thead>\n",
       "    <tr style=\"text-align: right;\">\n",
       "      <th></th>\n",
       "      <th>Brand</th>\n",
       "      <th>Year</th>\n",
       "      <th>Kilometers_Driven</th>\n",
       "      <th>Transmission</th>\n",
       "      <th>Owner_Type</th>\n",
       "      <th>Mileage</th>\n",
       "      <th>Engine</th>\n",
       "      <th>Power</th>\n",
       "    </tr>\n",
       "  </thead>\n",
       "  <tbody>\n",
       "    <tr>\n",
       "      <th>0</th>\n",
       "      <td>Toyota</td>\n",
       "      <td>2018</td>\n",
       "      <td>50000</td>\n",
       "      <td>Manual</td>\n",
       "      <td>First</td>\n",
       "      <td>15</td>\n",
       "      <td>1498</td>\n",
       "      <td>108</td>\n",
       "    </tr>\n",
       "    <tr>\n",
       "      <th>1</th>\n",
       "      <td>Honda</td>\n",
       "      <td>2019</td>\n",
       "      <td>40000</td>\n",
       "      <td>Automatic</td>\n",
       "      <td>Second</td>\n",
       "      <td>17</td>\n",
       "      <td>1597</td>\n",
       "      <td>140</td>\n",
       "    </tr>\n",
       "    <tr>\n",
       "      <th>2</th>\n",
       "      <td>Ford</td>\n",
       "      <td>2017</td>\n",
       "      <td>20000</td>\n",
       "      <td>Automatic</td>\n",
       "      <td>First</td>\n",
       "      <td>10</td>\n",
       "      <td>2998</td>\n",
       "      <td>395</td>\n",
       "    </tr>\n",
       "    <tr>\n",
       "      <th>3</th>\n",
       "      <td>Maruti</td>\n",
       "      <td>2020</td>\n",
       "      <td>30000</td>\n",
       "      <td>Manual</td>\n",
       "      <td>Third</td>\n",
       "      <td>23</td>\n",
       "      <td>1248</td>\n",
       "      <td>74</td>\n",
       "    </tr>\n",
       "    <tr>\n",
       "      <th>4</th>\n",
       "      <td>Hyundai</td>\n",
       "      <td>2016</td>\n",
       "      <td>60000</td>\n",
       "      <td>Automatic</td>\n",
       "      <td>Second</td>\n",
       "      <td>18</td>\n",
       "      <td>1999</td>\n",
       "      <td>194</td>\n",
       "    </tr>\n",
       "  </tbody>\n",
       "</table>\n",
       "</div>"
      ],
      "text/plain": [
       "     Brand  Year  Kilometers_Driven Transmission Owner_Type  Mileage  Engine  \\\n",
       "0   Toyota  2018              50000       Manual      First       15    1498   \n",
       "1    Honda  2019              40000    Automatic     Second       17    1597   \n",
       "2     Ford  2017              20000    Automatic      First       10    2998   \n",
       "3   Maruti  2020              30000       Manual      Third       23    1248   \n",
       "4  Hyundai  2016              60000    Automatic     Second       18    1999   \n",
       "\n",
       "   Power  \n",
       "0    108  \n",
       "1    140  \n",
       "2    395  \n",
       "3     74  \n",
       "4    194  "
      ]
     },
     "execution_count": 59,
     "metadata": {},
     "output_type": "execute_result"
    }
   ],
   "source": [
    "SelectedColumns=['Brand', 'Year', 'Kilometers_Driven', 'Transmission', 'Owner_Type', 'Mileage', 'Engine', 'Power']\n",
    "\n",
    "# Selecting final columns\n",
    "DataForML=df[SelectedColumns]\n",
    "DataForML.head()"
   ]
  },
  {
   "cell_type": "code",
   "execution_count": 61,
   "id": "20c909f6-9069-4549-bb54-3b56f58edb8e",
   "metadata": {
    "tags": []
   },
   "outputs": [
    {
     "data": {
      "text/plain": [
       "'C:\\\\Users\\\\irosh\\\\Downloads'"
      ]
     },
     "execution_count": 61,
     "metadata": {},
     "output_type": "execute_result"
    }
   ],
   "source": [
    "import os\n",
    "os.getcwd()"
   ]
  },
  {
   "cell_type": "code",
   "execution_count": 63,
   "id": "ce559da4-dedb-4d6a-bcdd-74781ee27fe7",
   "metadata": {
    "tags": []
   },
   "outputs": [],
   "source": [
    "# Saving this final data for reference during deployment\n",
    "DataForML.to_pickle('DataForML.pkl')"
   ]
  },
  {
   "cell_type": "code",
   "execution_count": 65,
   "id": "f02d3df5-313e-47da-a0cd-fa2285c91766",
   "metadata": {
    "tags": []
   },
   "outputs": [
    {
     "data": {
      "text/plain": [
       "Brand                11\n",
       "Year                  6\n",
       "Kilometers_Driven    18\n",
       "Transmission          2\n",
       "Owner_Type            3\n",
       "Mileage              15\n",
       "Engine               35\n",
       "Power                40\n",
       "dtype: int64"
      ]
     },
     "execution_count": 65,
     "metadata": {},
     "output_type": "execute_result"
    }
   ],
   "source": [
    "# Reading a pickle file\n",
    "import pandas as pd\n",
    "DataForML=pd.read_pickle('DataForML.pkl')\n",
    "DataForML.head()\n",
    "DataForML.nunique()"
   ]
  },
  {
   "cell_type": "code",
   "execution_count": 67,
   "id": "591927e9-a452-46dc-9c3d-400990341645",
   "metadata": {
    "tags": []
   },
   "outputs": [
    {
     "data": {
      "text/html": [
       "<div>\n",
       "<style scoped>\n",
       "    .dataframe tbody tr th:only-of-type {\n",
       "        vertical-align: middle;\n",
       "    }\n",
       "\n",
       "    .dataframe tbody tr th {\n",
       "        vertical-align: top;\n",
       "    }\n",
       "\n",
       "    .dataframe thead th {\n",
       "        text-align: right;\n",
       "    }\n",
       "</style>\n",
       "<table border=\"1\" class=\"dataframe\">\n",
       "  <thead>\n",
       "    <tr style=\"text-align: right;\">\n",
       "      <th></th>\n",
       "      <th>Brand</th>\n",
       "      <th>Year</th>\n",
       "      <th>Kilometers_Driven</th>\n",
       "      <th>Transmission</th>\n",
       "      <th>Owner_Type</th>\n",
       "      <th>Mileage</th>\n",
       "      <th>Engine</th>\n",
       "      <th>Power</th>\n",
       "    </tr>\n",
       "  </thead>\n",
       "  <tbody>\n",
       "    <tr>\n",
       "      <th>0</th>\n",
       "      <td>Toyota</td>\n",
       "      <td>2018</td>\n",
       "      <td>50000</td>\n",
       "      <td>Manual</td>\n",
       "      <td>1</td>\n",
       "      <td>15</td>\n",
       "      <td>1498</td>\n",
       "      <td>108</td>\n",
       "    </tr>\n",
       "    <tr>\n",
       "      <th>1</th>\n",
       "      <td>Honda</td>\n",
       "      <td>2019</td>\n",
       "      <td>40000</td>\n",
       "      <td>Automatic</td>\n",
       "      <td>2</td>\n",
       "      <td>17</td>\n",
       "      <td>1597</td>\n",
       "      <td>140</td>\n",
       "    </tr>\n",
       "    <tr>\n",
       "      <th>2</th>\n",
       "      <td>Ford</td>\n",
       "      <td>2017</td>\n",
       "      <td>20000</td>\n",
       "      <td>Automatic</td>\n",
       "      <td>1</td>\n",
       "      <td>10</td>\n",
       "      <td>2998</td>\n",
       "      <td>395</td>\n",
       "    </tr>\n",
       "    <tr>\n",
       "      <th>3</th>\n",
       "      <td>Maruti</td>\n",
       "      <td>2020</td>\n",
       "      <td>30000</td>\n",
       "      <td>Manual</td>\n",
       "      <td>3</td>\n",
       "      <td>23</td>\n",
       "      <td>1248</td>\n",
       "      <td>74</td>\n",
       "    </tr>\n",
       "    <tr>\n",
       "      <th>4</th>\n",
       "      <td>Hyundai</td>\n",
       "      <td>2016</td>\n",
       "      <td>60000</td>\n",
       "      <td>Automatic</td>\n",
       "      <td>2</td>\n",
       "      <td>18</td>\n",
       "      <td>1999</td>\n",
       "      <td>194</td>\n",
       "    </tr>\n",
       "    <tr>\n",
       "      <th>...</th>\n",
       "      <td>...</td>\n",
       "      <td>...</td>\n",
       "      <td>...</td>\n",
       "      <td>...</td>\n",
       "      <td>...</td>\n",
       "      <td>...</td>\n",
       "      <td>...</td>\n",
       "      <td>...</td>\n",
       "    </tr>\n",
       "    <tr>\n",
       "      <th>95</th>\n",
       "      <td>Mercedes</td>\n",
       "      <td>2019</td>\n",
       "      <td>22000</td>\n",
       "      <td>Automatic</td>\n",
       "      <td>1</td>\n",
       "      <td>16</td>\n",
       "      <td>1950</td>\n",
       "      <td>191</td>\n",
       "    </tr>\n",
       "    <tr>\n",
       "      <th>96</th>\n",
       "      <td>Toyota</td>\n",
       "      <td>2017</td>\n",
       "      <td>38000</td>\n",
       "      <td>Manual</td>\n",
       "      <td>2</td>\n",
       "      <td>13</td>\n",
       "      <td>2755</td>\n",
       "      <td>171</td>\n",
       "    </tr>\n",
       "    <tr>\n",
       "      <th>97</th>\n",
       "      <td>Ford</td>\n",
       "      <td>2018</td>\n",
       "      <td>26000</td>\n",
       "      <td>Manual</td>\n",
       "      <td>3</td>\n",
       "      <td>18</td>\n",
       "      <td>1497</td>\n",
       "      <td>121</td>\n",
       "    </tr>\n",
       "    <tr>\n",
       "      <th>98</th>\n",
       "      <td>Hyundai</td>\n",
       "      <td>2019</td>\n",
       "      <td>24000</td>\n",
       "      <td>Automatic</td>\n",
       "      <td>2</td>\n",
       "      <td>17</td>\n",
       "      <td>1497</td>\n",
       "      <td>113</td>\n",
       "    </tr>\n",
       "    <tr>\n",
       "      <th>99</th>\n",
       "      <td>Tata</td>\n",
       "      <td>2020</td>\n",
       "      <td>18000</td>\n",
       "      <td>Manual</td>\n",
       "      <td>1</td>\n",
       "      <td>20</td>\n",
       "      <td>1199</td>\n",
       "      <td>85</td>\n",
       "    </tr>\n",
       "  </tbody>\n",
       "</table>\n",
       "<p>100 rows × 8 columns</p>\n",
       "</div>"
      ],
      "text/plain": [
       "       Brand  Year  Kilometers_Driven Transmission  Owner_Type  Mileage  \\\n",
       "0     Toyota  2018              50000       Manual           1       15   \n",
       "1      Honda  2019              40000    Automatic           2       17   \n",
       "2       Ford  2017              20000    Automatic           1       10   \n",
       "3     Maruti  2020              30000       Manual           3       23   \n",
       "4    Hyundai  2016              60000    Automatic           2       18   \n",
       "..       ...   ...                ...          ...         ...      ...   \n",
       "95  Mercedes  2019              22000    Automatic           1       16   \n",
       "96    Toyota  2017              38000       Manual           2       13   \n",
       "97      Ford  2018              26000       Manual           3       18   \n",
       "98   Hyundai  2019              24000    Automatic           2       17   \n",
       "99      Tata  2020              18000       Manual           1       20   \n",
       "\n",
       "    Engine  Power  \n",
       "0     1498    108  \n",
       "1     1597    140  \n",
       "2     2998    395  \n",
       "3     1248     74  \n",
       "4     1999    194  \n",
       "..     ...    ...  \n",
       "95    1950    191  \n",
       "96    2755    171  \n",
       "97    1497    121  \n",
       "98    1497    113  \n",
       "99    1199     85  \n",
       "\n",
       "[100 rows x 8 columns]"
      ]
     },
     "execution_count": 67,
     "metadata": {},
     "output_type": "execute_result"
    }
   ],
   "source": [
    "DataForML.replace({'First':1, 'Second':2, 'Third':3}, inplace=True)\n",
    "DataForML"
   ]
  },
  {
   "cell_type": "markdown",
   "id": "440685b1-421d-4239-ba6b-1ae0f34e6477",
   "metadata": {},
   "source": [
    "### Data Pre-processing for Machine Learning\n",
    "\n",
    "Here are the steps performed on predictor variables to prepare the data for machine learning:\n",
    "\n",
    "1. Convert ordinal categorical columns to numeric values.\n",
    "2. Convert binary nominal categorical columns to numeric values using a 1/0 mapping.\n",
    "3. Convert other nominal categorical columns to numeric values using `pd.get_dummies()`.\n",
    "4. Data Transformation (Optional): Apply standardization, normalization, logarithmic, or square root transformations. This is important for distance-based algorithms like KNN or neural networks.\n",
    "\n",
    "In this dataset, there are no ordinal categorical variables in string format to convert. Similarly, there are no binary nominal variables in string format that need to be converted using 1/0 mapping."
   ]
  },
  {
   "cell_type": "markdown",
   "id": "7d1499c7-7f36-4ab0-bd30-00c0778dba01",
   "metadata": {},
   "source": [
    "## Converting the nominal variable to numeric using get_dummies()"
   ]
  },
  {
   "cell_type": "code",
   "execution_count": 71,
   "id": "7580f44d-cc70-4dbf-ae33-7781a19b09be",
   "metadata": {
    "tags": []
   },
   "outputs": [
    {
     "data": {
      "text/html": [
       "<div>\n",
       "<style scoped>\n",
       "    .dataframe tbody tr th:only-of-type {\n",
       "        vertical-align: middle;\n",
       "    }\n",
       "\n",
       "    .dataframe tbody tr th {\n",
       "        vertical-align: top;\n",
       "    }\n",
       "\n",
       "    .dataframe thead th {\n",
       "        text-align: right;\n",
       "    }\n",
       "</style>\n",
       "<table border=\"1\" class=\"dataframe\">\n",
       "  <thead>\n",
       "    <tr style=\"text-align: right;\">\n",
       "      <th></th>\n",
       "      <th>Year</th>\n",
       "      <th>Kilometers_Driven</th>\n",
       "      <th>Owner_Type</th>\n",
       "      <th>Mileage</th>\n",
       "      <th>Engine</th>\n",
       "      <th>Power</th>\n",
       "      <th>Brand_Audi</th>\n",
       "      <th>Brand_BMW</th>\n",
       "      <th>Brand_Ford</th>\n",
       "      <th>Brand_Honda</th>\n",
       "      <th>Brand_Hyundai</th>\n",
       "      <th>Brand_Mahindra</th>\n",
       "      <th>Brand_Maruti</th>\n",
       "      <th>Brand_Mercedes</th>\n",
       "      <th>Brand_Tata</th>\n",
       "      <th>Brand_Toyota</th>\n",
       "      <th>Brand_Volkswagen</th>\n",
       "      <th>Transmission_Automatic</th>\n",
       "      <th>Transmission_Manual</th>\n",
       "      <th>Price</th>\n",
       "    </tr>\n",
       "  </thead>\n",
       "  <tbody>\n",
       "    <tr>\n",
       "      <th>0</th>\n",
       "      <td>2018</td>\n",
       "      <td>50000</td>\n",
       "      <td>1</td>\n",
       "      <td>15</td>\n",
       "      <td>1498</td>\n",
       "      <td>108</td>\n",
       "      <td>0</td>\n",
       "      <td>0</td>\n",
       "      <td>0</td>\n",
       "      <td>0</td>\n",
       "      <td>0</td>\n",
       "      <td>0</td>\n",
       "      <td>0</td>\n",
       "      <td>0</td>\n",
       "      <td>0</td>\n",
       "      <td>1</td>\n",
       "      <td>0</td>\n",
       "      <td>0</td>\n",
       "      <td>1</td>\n",
       "      <td>800000</td>\n",
       "    </tr>\n",
       "    <tr>\n",
       "      <th>1</th>\n",
       "      <td>2019</td>\n",
       "      <td>40000</td>\n",
       "      <td>2</td>\n",
       "      <td>17</td>\n",
       "      <td>1597</td>\n",
       "      <td>140</td>\n",
       "      <td>0</td>\n",
       "      <td>0</td>\n",
       "      <td>0</td>\n",
       "      <td>1</td>\n",
       "      <td>0</td>\n",
       "      <td>0</td>\n",
       "      <td>0</td>\n",
       "      <td>0</td>\n",
       "      <td>0</td>\n",
       "      <td>0</td>\n",
       "      <td>0</td>\n",
       "      <td>1</td>\n",
       "      <td>0</td>\n",
       "      <td>1000000</td>\n",
       "    </tr>\n",
       "    <tr>\n",
       "      <th>2</th>\n",
       "      <td>2017</td>\n",
       "      <td>20000</td>\n",
       "      <td>1</td>\n",
       "      <td>10</td>\n",
       "      <td>2998</td>\n",
       "      <td>395</td>\n",
       "      <td>0</td>\n",
       "      <td>0</td>\n",
       "      <td>1</td>\n",
       "      <td>0</td>\n",
       "      <td>0</td>\n",
       "      <td>0</td>\n",
       "      <td>0</td>\n",
       "      <td>0</td>\n",
       "      <td>0</td>\n",
       "      <td>0</td>\n",
       "      <td>0</td>\n",
       "      <td>1</td>\n",
       "      <td>0</td>\n",
       "      <td>2500000</td>\n",
       "    </tr>\n",
       "    <tr>\n",
       "      <th>3</th>\n",
       "      <td>2020</td>\n",
       "      <td>30000</td>\n",
       "      <td>3</td>\n",
       "      <td>23</td>\n",
       "      <td>1248</td>\n",
       "      <td>74</td>\n",
       "      <td>0</td>\n",
       "      <td>0</td>\n",
       "      <td>0</td>\n",
       "      <td>0</td>\n",
       "      <td>0</td>\n",
       "      <td>0</td>\n",
       "      <td>1</td>\n",
       "      <td>0</td>\n",
       "      <td>0</td>\n",
       "      <td>0</td>\n",
       "      <td>0</td>\n",
       "      <td>0</td>\n",
       "      <td>1</td>\n",
       "      <td>600000</td>\n",
       "    </tr>\n",
       "    <tr>\n",
       "      <th>4</th>\n",
       "      <td>2016</td>\n",
       "      <td>60000</td>\n",
       "      <td>2</td>\n",
       "      <td>18</td>\n",
       "      <td>1999</td>\n",
       "      <td>194</td>\n",
       "      <td>0</td>\n",
       "      <td>0</td>\n",
       "      <td>0</td>\n",
       "      <td>0</td>\n",
       "      <td>1</td>\n",
       "      <td>0</td>\n",
       "      <td>0</td>\n",
       "      <td>0</td>\n",
       "      <td>0</td>\n",
       "      <td>0</td>\n",
       "      <td>0</td>\n",
       "      <td>1</td>\n",
       "      <td>0</td>\n",
       "      <td>850000</td>\n",
       "    </tr>\n",
       "  </tbody>\n",
       "</table>\n",
       "</div>"
      ],
      "text/plain": [
       "   Year  Kilometers_Driven  Owner_Type  Mileage  Engine  Power  Brand_Audi  \\\n",
       "0  2018              50000           1       15    1498    108           0   \n",
       "1  2019              40000           2       17    1597    140           0   \n",
       "2  2017              20000           1       10    2998    395           0   \n",
       "3  2020              30000           3       23    1248     74           0   \n",
       "4  2016              60000           2       18    1999    194           0   \n",
       "\n",
       "   Brand_BMW  Brand_Ford  Brand_Honda  Brand_Hyundai  Brand_Mahindra  \\\n",
       "0          0           0            0              0               0   \n",
       "1          0           0            1              0               0   \n",
       "2          0           1            0              0               0   \n",
       "3          0           0            0              0               0   \n",
       "4          0           0            0              1               0   \n",
       "\n",
       "   Brand_Maruti  Brand_Mercedes  Brand_Tata  Brand_Toyota  Brand_Volkswagen  \\\n",
       "0             0               0           0             1                 0   \n",
       "1             0               0           0             0                 0   \n",
       "2             0               0           0             0                 0   \n",
       "3             1               0           0             0                 0   \n",
       "4             0               0           0             0                 0   \n",
       "\n",
       "   Transmission_Automatic  Transmission_Manual    Price  \n",
       "0                       0                    1   800000  \n",
       "1                       1                    0  1000000  \n",
       "2                       1                    0  2500000  \n",
       "3                       0                    1   600000  \n",
       "4                       1                    0   850000  "
      ]
     },
     "execution_count": 71,
     "metadata": {},
     "output_type": "execute_result"
    }
   ],
   "source": [
    "# Treating all the nominal variables at once using dummy variables\n",
    "DataForML_Numeric=pd.get_dummies(DataForML, dtype=int)\n",
    "# Adding Target Variable to the data\n",
    "DataForML_Numeric['Price']=df['Price']\n",
    "\n",
    "# Printing sample rows\n",
    "DataForML_Numeric.head()\n"
   ]
  },
  {
   "cell_type": "markdown",
   "id": "a6e6b5b9-0397-470f-b2d1-ec1ffb0ef19c",
   "metadata": {},
   "source": [
    "### Machine Learning: Splitting the Data into Training and Testing Sets\n",
    "\n",
    "In machine learning, the entire dataset is not used for building the model. Instead, a portion of the data is reserved for evaluating the model's performance. This reserved portion is called the Testing Data, while the remaining data is used to train the model and is referred to as the Training Data. Typically, 70% of the data is allocated for training, and the remaining 30% is set aside for testing."
   ]
  },
  {
   "cell_type": "code",
   "execution_count": 74,
   "id": "416a1fa9-801a-4596-aae1-bc89e64ba7e1",
   "metadata": {
    "tags": []
   },
   "outputs": [
    {
     "data": {
      "text/plain": [
       "Index(['Year', 'Kilometers_Driven', 'Owner_Type', 'Mileage', 'Engine', 'Power',\n",
       "       'Brand_Audi', 'Brand_BMW', 'Brand_Ford', 'Brand_Honda', 'Brand_Hyundai',\n",
       "       'Brand_Mahindra', 'Brand_Maruti', 'Brand_Mercedes', 'Brand_Tata',\n",
       "       'Brand_Toyota', 'Brand_Volkswagen', 'Transmission_Automatic',\n",
       "       'Transmission_Manual', 'Price'],\n",
       "      dtype='object')"
      ]
     },
     "execution_count": 74,
     "metadata": {},
     "output_type": "execute_result"
    }
   ],
   "source": [
    "# Printing all the column names for our reference\n",
    "DataForML_Numeric.columns"
   ]
  },
  {
   "cell_type": "code",
   "execution_count": 76,
   "id": "1601772b-b19a-46d6-a4a6-02a3c49dd0d0",
   "metadata": {
    "tags": []
   },
   "outputs": [
    {
     "name": "stdout",
     "output_type": "stream",
     "text": [
      "(70, 19)\n",
      "(70,)\n",
      "(30, 19)\n",
      "(30,)\n"
     ]
    }
   ],
   "source": [
    "# Separate Target Variable and Predictor Variables\n",
    "TargetVariable='Price'\n",
    "Predictors=['Year', 'Kilometers_Driven', 'Owner_Type', 'Mileage', 'Engine', 'Power',\n",
    "       'Brand_Audi', 'Brand_BMW', 'Brand_Ford', 'Brand_Honda', 'Brand_Hyundai',\n",
    "       'Brand_Mahindra', 'Brand_Maruti', 'Brand_Mercedes', 'Brand_Tata',\n",
    "       'Brand_Toyota', 'Brand_Volkswagen', 'Transmission_Automatic',\n",
    "       'Transmission_Manual']\n",
    "\n",
    "\n",
    "X=DataForML_Numeric[Predictors].values\n",
    "y=DataForML_Numeric[TargetVariable].values\n",
    "\n",
    "# Split the data into training and testing set\n",
    "from sklearn.model_selection import train_test_split\n",
    "\n",
    "X_train, X_test, y_train, y_test = train_test_split(X, y, test_size=0.30, random_state=41)\n",
    "\n",
    "# Quick check on the shapes of train and test\n",
    "print(X_train.shape)\n",
    "print(y_train.shape)\n",
    "print(X_test.shape)\n",
    "print(y_test.shape)"
   ]
  },
  {
   "cell_type": "code",
   "execution_count": 78,
   "id": "eb1f177b-f5ab-4cbc-9f45-4d96a7b880ec",
   "metadata": {
    "tags": []
   },
   "outputs": [
    {
     "data": {
      "text/plain": [
       "array([[ 2020, 25000,     1,    18,   999,    76,     0,     0,     0,\n",
       "            0,     0,     0,     0,     0,     0,     0,     1,     1,\n",
       "            0],\n",
       "       [ 2017, 32000,     2,    17,  1968,   174,     0,     0,     0,\n",
       "            0,     0,     0,     0,     0,     0,     0,     1,     1,\n",
       "            0],\n",
       "       [ 2017, 35000,     2,    12,  2198,   158,     0,     0,     1,\n",
       "            0,     0,     0,     0,     0,     0,     0,     0,     1,\n",
       "            0],\n",
       "       [ 2018, 26000,     2,    12,  2996,   362,     0,     0,     0,\n",
       "            0,     0,     0,     0,     1,     0,     0,     0,     1,\n",
       "            0],\n",
       "       [ 2019, 22000,     2,    18,  1498,   148,     0,     0,     0,\n",
       "            0,     0,     0,     0,     0,     0,     0,     1,     1,\n",
       "            0],\n",
       "       [ 2018, 38000,     2,    12,  2755,   174,     0,     0,     0,\n",
       "            0,     0,     0,     0,     0,     0,     1,     0,     1,\n",
       "            0],\n",
       "       [ 2020, 18000,     1,    23,  1199,    84,     0,     0,     0,\n",
       "            0,     0,     0,     0,     0,     1,     0,     0,     0,\n",
       "            1],\n",
       "       [ 2017, 30000,     1,    16,  1950,   191,     0,     0,     0,\n",
       "            0,     0,     0,     0,     1,     0,     0,     0,     1,\n",
       "            0],\n",
       "       [ 2017, 42000,     2,    25,  1498,    98,     0,     0,     0,\n",
       "            1,     0,     0,     0,     0,     0,     0,     0,     0,\n",
       "            1],\n",
       "       [ 2018, 28000,     1,    21,  1498,    98,     0,     0,     0,\n",
       "            1,     0,     0,     0,     0,     0,     0,     0,     0,\n",
       "            1]], dtype=int64)"
      ]
     },
     "execution_count": 78,
     "metadata": {},
     "output_type": "execute_result"
    }
   ],
   "source": [
    "# Suppressing Scientific Notation in printing numpy arrays\n",
    "np.set_printoptions(suppress=True)\n",
    "X_train[0:10]"
   ]
  },
  {
   "cell_type": "code",
   "execution_count": 80,
   "id": "43735360-4639-4b26-8f1c-ae607af2c2c9",
   "metadata": {
    "tags": []
   },
   "outputs": [
    {
     "data": {
      "text/plain": [
       "array([ 650000, 1600000, 2000000, 4000000, 1600000, 2500000,  500000,\n",
       "       2700000,  650000,  850000], dtype=int64)"
      ]
     },
     "execution_count": 80,
     "metadata": {},
     "output_type": "execute_result"
    }
   ],
   "source": [
    "y_train[0:10]"
   ]
  },
  {
   "cell_type": "markdown",
   "id": "0d1e5338-6ac0-4af0-99ac-c48b620b6fc8",
   "metadata": {},
   "source": [
    "### Standardization/Normalization of Data\n",
    "\n",
    "Standardization or normalization of data may be optional if you wish to compare the accuracy of the transformed data against the accuracy of the raw data.\n",
    "\n",
    "However, this step is essential when using algorithms that are sensitive to the scale of the data, such as K-Nearest Neighbors (KNN) or Neural Networks. Standardization typically involves rescaling data to have a mean of 0 and a standard deviation of 1, while normalization scales the data to a specific range, often [0,1]. Proper scaling ensures that features contribute equally to the model, which can significantly improve performance and convergence speed for these algorithms.\n"
   ]
  },
  {
   "cell_type": "code",
   "execution_count": 83,
   "id": "8d770220-6e0c-47a7-953a-b78607e88f51",
   "metadata": {
    "tags": []
   },
   "outputs": [],
   "source": [
    "# Sandardization of data \n",
    "from sklearn.preprocessing import StandardScaler, MinMaxScaler\n",
    "# Choose between Standardization and Min-Max Normalization\n",
    "\n",
    "# Min-Max Normalization Outperforms Standardization on This Data\n",
    "#PredictorScaler=StandardScaler()\n",
    "PredictorScaler=MinMaxScaler()\n",
    "\n",
    "# Finding and storing Min and Max values for every column in X\n",
    "PredictorScalerFit=PredictorScaler.fit(X)\n",
    "\n",
    "# Generating the standardized values of X\n",
    "X=PredictorScalerFit.transform(X)\n",
    "\n",
    "# Splitting the data into training and testing set\n",
    "from sklearn.model_selection import train_test_split\n",
    "X_train, X_test, y_train, y_test = train_test_split(X, y, test_size=0.3, random_state=41)"
   ]
  },
  {
   "cell_type": "code",
   "execution_count": 85,
   "id": "dc9af5bb-49e1-4b37-84b0-30ecd32833fc",
   "metadata": {
    "tags": []
   },
   "outputs": [
    {
     "name": "stdout",
     "output_type": "stream",
     "text": [
      "(70, 19)\n",
      "(70,)\n",
      "(30, 19)\n",
      "(30,)\n"
     ]
    }
   ],
   "source": [
    "# Sanity check for the sampled data\n",
    "print(X_train.shape)\n",
    "print(y_train.shape)\n",
    "print(X_test.shape)\n",
    "print(y_test.shape)"
   ]
  },
  {
   "cell_type": "code",
   "execution_count": 87,
   "id": "e851e551-7e30-45c1-8a20-f1a2d7bc78cb",
   "metadata": {
    "tags": []
   },
   "outputs": [
    {
     "data": {
      "text/plain": [
       "array([[0.8       , 0.3       , 0.        , 0.53333333, 0.        ,\n",
       "        0.02439024, 0.        , 0.        , 0.        , 0.        ,\n",
       "        0.        , 0.        , 0.        , 0.        , 0.        ,\n",
       "        0.        , 1.        , 1.        , 0.        ],\n",
       "       [0.2       , 0.44      , 0.5       , 0.46666667, 0.48474237,\n",
       "        0.32317073, 0.        , 0.        , 0.        , 0.        ,\n",
       "        0.        , 0.        , 0.        , 0.        , 0.        ,\n",
       "        0.        , 1.        , 1.        , 0.        ],\n",
       "       [0.2       , 0.5       , 0.5       , 0.13333333, 0.5997999 ,\n",
       "        0.27439024, 0.        , 0.        , 1.        , 0.        ,\n",
       "        0.        , 0.        , 0.        , 0.        , 0.        ,\n",
       "        0.        , 0.        , 1.        , 0.        ],\n",
       "       [0.4       , 0.32      , 0.5       , 0.13333333, 0.9989995 ,\n",
       "        0.89634146, 0.        , 0.        , 0.        , 0.        ,\n",
       "        0.        , 0.        , 0.        , 1.        , 0.        ,\n",
       "        0.        , 0.        , 1.        , 0.        ],\n",
       "       [0.6       , 0.24      , 0.5       , 0.53333333, 0.24962481,\n",
       "        0.24390244, 0.        , 0.        , 0.        , 0.        ,\n",
       "        0.        , 0.        , 0.        , 0.        , 0.        ,\n",
       "        0.        , 1.        , 1.        , 0.        ],\n",
       "       [0.4       , 0.56      , 0.5       , 0.13333333, 0.87843922,\n",
       "        0.32317073, 0.        , 0.        , 0.        , 0.        ,\n",
       "        0.        , 0.        , 0.        , 0.        , 0.        ,\n",
       "        1.        , 0.        , 1.        , 0.        ],\n",
       "       [0.8       , 0.16      , 0.        , 0.86666667, 0.10005003,\n",
       "        0.04878049, 0.        , 0.        , 0.        , 0.        ,\n",
       "        0.        , 0.        , 0.        , 0.        , 1.        ,\n",
       "        0.        , 0.        , 0.        , 1.        ],\n",
       "       [0.2       , 0.4       , 0.        , 0.4       , 0.47573787,\n",
       "        0.375     , 0.        , 0.        , 0.        , 0.        ,\n",
       "        0.        , 0.        , 0.        , 1.        , 0.        ,\n",
       "        0.        , 0.        , 1.        , 0.        ],\n",
       "       [0.2       , 0.64      , 0.5       , 1.        , 0.24962481,\n",
       "        0.09146341, 0.        , 0.        , 0.        , 1.        ,\n",
       "        0.        , 0.        , 0.        , 0.        , 0.        ,\n",
       "        0.        , 0.        , 0.        , 1.        ],\n",
       "       [0.4       , 0.36      , 0.        , 0.73333333, 0.24962481,\n",
       "        0.09146341, 0.        , 0.        , 0.        , 1.        ,\n",
       "        0.        , 0.        , 0.        , 0.        , 0.        ,\n",
       "        0.        , 0.        , 0.        , 1.        ]])"
      ]
     },
     "execution_count": 87,
     "metadata": {},
     "output_type": "execute_result"
    }
   ],
   "source": [
    "X_train[0:10]\n"
   ]
  },
  {
   "cell_type": "code",
   "execution_count": 89,
   "id": "10ce3500-0dd7-4a34-b4cb-85e38aff048d",
   "metadata": {
    "tags": []
   },
   "outputs": [
    {
     "data": {
      "text/plain": [
       "array([ 650000, 1600000, 2000000, 4000000, 1600000, 2500000,  500000,\n",
       "       2700000,  650000,  850000], dtype=int64)"
      ]
     },
     "execution_count": 89,
     "metadata": {},
     "output_type": "execute_result"
    }
   ],
   "source": [
    "y_train[0:10]"
   ]
  },
  {
   "cell_type": "markdown",
   "id": "e9a7f22f-f233-4c2c-b06e-00dabc8761b2",
   "metadata": {},
   "source": [
    "# Multiple Linear Regression"
   ]
  },
  {
   "cell_type": "code",
   "execution_count": 92,
   "id": "bb8d9488-f9e5-46e3-a39d-a14e59ee78be",
   "metadata": {
    "tags": []
   },
   "outputs": [
    {
     "name": "stdout",
     "output_type": "stream",
     "text": [
      "LinearRegression()\n",
      "R2 Value: 0.9562841473111522\n",
      "\n",
      "##### Model Validation and Accuracy Calculations ##########\n",
      "   Year  Kilometers_Driven  Owner_Type   Mileage    Engine     Power  \\\n",
      "0   0.4               0.64         0.0  0.933333  0.024012  0.003049   \n",
      "1   0.8               0.10         0.5  0.333333  0.499750  0.579268   \n",
      "2   0.6               0.24         0.0  0.333333  0.997499  0.588415   \n",
      "3   0.4               0.70         0.5  0.333333  0.590295  0.219512   \n",
      "4   0.6               0.32         1.0  0.666667  0.043522  0.000000   \n",
      "\n",
      "   Brand_Audi  Brand_BMW  Brand_Ford  Brand_Honda  ...  Brand_Mahindra  \\\n",
      "0         0.0        0.0         0.0          0.0  ...             0.0   \n",
      "1         0.0        1.0         0.0          0.0  ...             0.0   \n",
      "2         0.0        1.0         0.0          0.0  ...             0.0   \n",
      "3         0.0        0.0         0.0          0.0  ...             1.0   \n",
      "4         0.0        0.0         0.0          0.0  ...             0.0   \n",
      "\n",
      "   Brand_Maruti  Brand_Mercedes  Brand_Tata  Brand_Toyota  Brand_Volkswagen  \\\n",
      "0           0.0             0.0         1.0           0.0               0.0   \n",
      "1           0.0             0.0         0.0           0.0               0.0   \n",
      "2           0.0             0.0         0.0           0.0               0.0   \n",
      "3           0.0             0.0         0.0           0.0               0.0   \n",
      "4           0.0             0.0         0.0           0.0               0.0   \n",
      "\n",
      "   Transmission_Automatic  Transmission_Manual    Price  PredictedPrice  \n",
      "0                     0.0                  1.0   500000        345743.0  \n",
      "1                     1.0                  0.0  2800000       2863979.0  \n",
      "2                     1.0                  0.0  3500000       3330541.0  \n",
      "3                     1.0                  0.0   900000       1310906.0  \n",
      "4                     0.0                  1.0   450000        240621.0  \n",
      "\n",
      "[5 rows x 21 columns]\n",
      "     Price  PredictedPrice        APE\n",
      "0   500000        345743.0  30.851400\n",
      "1  2800000       2863979.0   2.284964\n",
      "2  3500000       3330541.0   4.841686\n",
      "3   900000       1310906.0  45.656222\n",
      "4   450000        240621.0  46.528667\n",
      "Mean Accuracy on test data: 85.28592732268073\n",
      "Median Accuracy on test data: 91.28364583333334\n",
      "\n",
      "Accuracy values for 10-fold Cross Validation:\n",
      " [67.61943278 81.97069796 81.18950609 84.00048462 83.05659426]\n",
      "\n",
      "Final Average Accuracy of the model: 79.57\n"
     ]
    }
   ],
   "source": [
    "from sklearn.linear_model import LinearRegression\n",
    "RegModel = LinearRegression()\n",
    "\n",
    "# Printing all the parameters of Linear regression\n",
    "print(RegModel)\n",
    "\n",
    "# Creating the model on Training Data\n",
    "LREG=RegModel.fit(X_train,y_train)\n",
    "\n",
    "\n",
    "\n",
    "from sklearn import metrics\n",
    "# Evaluating Model Performance on Training Data\n",
    "print('R2 Value:',metrics.r2_score(y_train, LREG.predict(X_train)))\n",
    "\n",
    "print('\\n__________ Model Validation and Accuracy Calculations ___________')\n",
    "\n",
    "# Printing sample values of prediction\n",
    "prediction=LREG.predict(X_test)\n",
    "TestingDataResults=pd.DataFrame(data=X_test, columns=Predictors)\n",
    "TestingDataResults[TargetVariable]=y_test\n",
    "TestingDataResults[('Predicted'+TargetVariable)]=np.round(prediction)\n",
    "print(TestingDataResults.head())\n",
    "\n",
    "# Calculating the error for each row\n",
    "TestingDataResults['APE']=100 * ((abs(\n",
    "  TestingDataResults['Price']-TestingDataResults['PredictedPrice']))/TestingDataResults['Price'])\n",
    "\n",
    "# Printing sample prediction values\n",
    "print(TestingDataResults[[TargetVariable,'Predicted'+TargetVariable, 'APE']].head())\n",
    "\n",
    "\n",
    "MAPE=np.mean(TestingDataResults['APE'])\n",
    "MedianMAPE=np.median(TestingDataResults['APE'])\n",
    "\n",
    "Accuracy =100 - MAPE\n",
    "MedianAccuracy=100- MedianMAPE\n",
    "print('Mean Accuracy on test data:', Accuracy) \n",
    "print('Median Accuracy on test data:', MedianAccuracy)\n",
    "\n",
    "\n",
    "# Defining a custom function to calculate accuracy\n",
    "def Accuracy_Score(orig,pred):\n",
    "    MAPE = np.mean(100 * (np.abs(orig-pred)/orig))\n",
    "    #print('#'*70,'Accuracy:', 100-MAPE)\n",
    "    return(100-MAPE)\n",
    "\n",
    "# Custom Scoring MAPE calculation\n",
    "from sklearn.metrics import make_scorer\n",
    "custom_Scoring=make_scorer(Accuracy_Score, greater_is_better=True)\n",
    "\n",
    "# Importing cross validation function \n",
    "from sklearn.model_selection import cross_val_score\n",
    "\n",
    "# Running 10-Fold Cross validation \n",
    "Accuracy_Values=cross_val_score(RegModel, X , y, cv=5, scoring=custom_Scoring)\n",
    "print('\\nAccuracy values for 10-fold Cross Validation:\\n',Accuracy_Values)\n",
    "print('\\nFinal Average Accuracy of the model:', round(Accuracy_Values.mean(),2))"
   ]
  },
  {
   "cell_type": "markdown",
   "id": "a651456a-1f94-4f50-8138-1cd7227379a3",
   "metadata": {},
   "source": [
    "### Accuracy of the Multiple Linear Regression Model is 79.57%"
   ]
  },
  {
   "cell_type": "code",
   "execution_count": 95,
   "id": "f032d405-82f3-40b1-bfc5-758b71082bb7",
   "metadata": {
    "tags": []
   },
   "outputs": [
    {
     "data": {
      "text/html": [
       "<div>\n",
       "<style scoped>\n",
       "    .dataframe tbody tr th:only-of-type {\n",
       "        vertical-align: middle;\n",
       "    }\n",
       "\n",
       "    .dataframe tbody tr th {\n",
       "        vertical-align: top;\n",
       "    }\n",
       "\n",
       "    .dataframe thead th {\n",
       "        text-align: right;\n",
       "    }\n",
       "</style>\n",
       "<table border=\"1\" class=\"dataframe\">\n",
       "  <thead>\n",
       "    <tr style=\"text-align: right;\">\n",
       "      <th></th>\n",
       "      <th>Brand</th>\n",
       "      <th>Year</th>\n",
       "      <th>Kilometers_Driven</th>\n",
       "      <th>Fuel_Type</th>\n",
       "      <th>Transmission</th>\n",
       "      <th>Owner_Type</th>\n",
       "      <th>Mileage</th>\n",
       "      <th>Engine</th>\n",
       "      <th>Power</th>\n",
       "      <th>Seats</th>\n",
       "      <th>Price</th>\n",
       "      <th>PriceAVG</th>\n",
       "    </tr>\n",
       "  </thead>\n",
       "  <tbody>\n",
       "    <tr>\n",
       "      <th>0</th>\n",
       "      <td>Toyota</td>\n",
       "      <td>2018</td>\n",
       "      <td>50000</td>\n",
       "      <td>Petrol</td>\n",
       "      <td>Manual</td>\n",
       "      <td>First</td>\n",
       "      <td>15</td>\n",
       "      <td>1498</td>\n",
       "      <td>108</td>\n",
       "      <td>5</td>\n",
       "      <td>800000</td>\n",
       "      <td>1595000.0</td>\n",
       "    </tr>\n",
       "    <tr>\n",
       "      <th>1</th>\n",
       "      <td>Honda</td>\n",
       "      <td>2019</td>\n",
       "      <td>40000</td>\n",
       "      <td>Petrol</td>\n",
       "      <td>Automatic</td>\n",
       "      <td>Second</td>\n",
       "      <td>17</td>\n",
       "      <td>1597</td>\n",
       "      <td>140</td>\n",
       "      <td>5</td>\n",
       "      <td>1000000</td>\n",
       "      <td>1595000.0</td>\n",
       "    </tr>\n",
       "    <tr>\n",
       "      <th>2</th>\n",
       "      <td>Ford</td>\n",
       "      <td>2017</td>\n",
       "      <td>20000</td>\n",
       "      <td>Petrol</td>\n",
       "      <td>Automatic</td>\n",
       "      <td>First</td>\n",
       "      <td>10</td>\n",
       "      <td>2998</td>\n",
       "      <td>395</td>\n",
       "      <td>4</td>\n",
       "      <td>2500000</td>\n",
       "      <td>1595000.0</td>\n",
       "    </tr>\n",
       "    <tr>\n",
       "      <th>3</th>\n",
       "      <td>Maruti</td>\n",
       "      <td>2020</td>\n",
       "      <td>30000</td>\n",
       "      <td>Diesel</td>\n",
       "      <td>Manual</td>\n",
       "      <td>Third</td>\n",
       "      <td>23</td>\n",
       "      <td>1248</td>\n",
       "      <td>74</td>\n",
       "      <td>5</td>\n",
       "      <td>600000</td>\n",
       "      <td>1595000.0</td>\n",
       "    </tr>\n",
       "    <tr>\n",
       "      <th>4</th>\n",
       "      <td>Hyundai</td>\n",
       "      <td>2016</td>\n",
       "      <td>60000</td>\n",
       "      <td>Diesel</td>\n",
       "      <td>Automatic</td>\n",
       "      <td>Second</td>\n",
       "      <td>18</td>\n",
       "      <td>1999</td>\n",
       "      <td>194</td>\n",
       "      <td>5</td>\n",
       "      <td>850000</td>\n",
       "      <td>1595000.0</td>\n",
       "    </tr>\n",
       "  </tbody>\n",
       "</table>\n",
       "</div>"
      ],
      "text/plain": [
       "     Brand  Year  Kilometers_Driven Fuel_Type Transmission Owner_Type  \\\n",
       "0   Toyota  2018              50000    Petrol       Manual      First   \n",
       "1    Honda  2019              40000    Petrol    Automatic     Second   \n",
       "2     Ford  2017              20000    Petrol    Automatic      First   \n",
       "3   Maruti  2020              30000    Diesel       Manual      Third   \n",
       "4  Hyundai  2016              60000    Diesel    Automatic     Second   \n",
       "\n",
       "   Mileage  Engine  Power  Seats    Price   PriceAVG  \n",
       "0       15    1498    108      5   800000  1595000.0  \n",
       "1       17    1597    140      5  1000000  1595000.0  \n",
       "2       10    2998    395      4  2500000  1595000.0  \n",
       "3       23    1248     74      5   600000  1595000.0  \n",
       "4       18    1999    194      5   850000  1595000.0  "
      ]
     },
     "execution_count": 95,
     "metadata": {},
     "output_type": "execute_result"
    }
   ],
   "source": [
    "df['PriceAVG']=TestingDataResults['Price'].mean()\n",
    "df.head()"
   ]
  },
  {
   "cell_type": "code",
   "execution_count": 97,
   "id": "3c5b88ab-3c05-4c11-a6a6-6b63818fef49",
   "metadata": {
    "tags": []
   },
   "outputs": [
    {
     "data": {
      "text/plain": [
       "array([ 281762.30620611,   28539.15009728,  -96902.79257565,\n",
       "       -280554.73441969,  921463.93788836, 1291205.13290919,\n",
       "        736362.25360194,  678156.86310923, -158463.44420886,\n",
       "       -178657.39875048, -374066.4227157 , -398250.90612763,\n",
       "       -366565.48234554,  837345.35903773, -229771.41406273,\n",
       "       -362917.5896203 , -183171.81791765,  105369.80847793,\n",
       "       -105369.80847793])"
      ]
     },
     "execution_count": 97,
     "metadata": {},
     "output_type": "execute_result"
    }
   ],
   "source": [
    "LREG.coef_"
   ]
  },
  {
   "cell_type": "code",
   "execution_count": 99,
   "id": "64d2ad33-1b3c-4d33-8908-d3fb2854a7cf",
   "metadata": {
    "tags": []
   },
   "outputs": [
    {
     "data": {
      "text/plain": [
       "785703.0138457348"
      ]
     },
     "execution_count": 99,
     "metadata": {},
     "output_type": "execute_result"
    }
   ],
   "source": [
    "LREG.intercept_"
   ]
  },
  {
   "cell_type": "markdown",
   "id": "196a556f-81b3-4945-a6b8-9b3b35b819ac",
   "metadata": {},
   "source": [
    "# Decision Trees"
   ]
  },
  {
   "cell_type": "code",
   "execution_count": 102,
   "id": "d7e09874-6a23-4bd1-8933-3130b5f761e4",
   "metadata": {
    "tags": []
   },
   "outputs": [
    {
     "name": "stdout",
     "output_type": "stream",
     "text": [
      "DecisionTreeRegressor(max_depth=3)\n",
      "R2 Value: 0.9630338230459485\n",
      "\n",
      "##### Model Validation and Accuracy Calculations ##########\n",
      "     Price  PredictedPrice\n",
      "0   500000        553846.0\n",
      "1  2800000       2750000.0\n",
      "2  3500000       3580000.0\n",
      "3   900000        786364.0\n",
      "4   450000        553846.0\n",
      "Mean Accuracy on test data: 84.58951071382754\n",
      "Median Accuracy on test data: 90.44873333333334\n",
      "\n",
      "Accuracy values for 10-fold Cross Validation:\n",
      " [42.0215325  83.15944201 87.51574976 88.56604368 86.40296077 88.96396703\n",
      " 88.06227435 86.79813488 89.3358112  89.11873153]\n",
      "\n",
      "Final Average Accuracy of the model: 82.99\n"
     ]
    },
    {
     "data": {
      "image/png": "[encoded data removed]",
      "text/plain": [
       "<Figure size 640x480 with 1 Axes>"
      ]
     },
     "metadata": {},
     "output_type": "display_data"
    }
   ],
   "source": [
    "# Decision Trees (Multiple if-else statements!)\n",
    "from sklearn.tree import DecisionTreeRegressor\n",
    "RegModel = DecisionTreeRegressor(max_depth=3, criterion='squared_error')\n",
    "# Good Range of hyper parameter Max_depth = 2 to 20\n",
    "\n",
    "# Printing all the parameters of Decision Tree\n",
    "print(RegModel)\n",
    "\n",
    "# Creating the model on Training Data\n",
    "DT=RegModel.fit(X_train,y_train)\n",
    "\n",
    "from sklearn import metrics\n",
    "# Measuring Goodness of fit in Training data\n",
    "print('R2 Value:',metrics.r2_score(y_train, DT.predict(X_train)))\n",
    "\n",
    "# Plotting the feature importance for Top 10 most important columns\n",
    "%matplotlib inline\n",
    "feature_importances = pd.Series(DT.feature_importances_, index=Predictors)\n",
    "feature_importances.nlargest(10).plot(kind='barh')\n",
    "\n",
    "###########################################################################\n",
    "print('\\n##### Model Validation and Accuracy Calculations ##########')\n",
    "prediction=DT.predict(X_test)\n",
    "# Printing some sample values of prediction\n",
    "TestingDataResults=pd.DataFrame(data=X_test, columns=Predictors)\n",
    "TestingDataResults[TargetVariable]=y_test\n",
    "TestingDataResults[('Predicted'+TargetVariable)]=np.round(prediction)\n",
    "\n",
    "# Printing sample prediction values\n",
    "print(TestingDataResults[[TargetVariable,'Predicted'+TargetVariable]].head())\n",
    "\n",
    "# Calculating the error for each row\n",
    "TestingDataResults['APE']=100 * ((abs(\n",
    "  TestingDataResults['Price']-TestingDataResults['PredictedPrice']))/TestingDataResults['Price'])\n",
    "\n",
    "MAPE=np.mean(TestingDataResults['APE'])\n",
    "MedianMAPE=np.median(TestingDataResults['APE'])\n",
    "\n",
    "Accuracy =100 - MAPE\n",
    "MedianAccuracy=100- MedianMAPE\n",
    "print('Mean Accuracy on test data:', Accuracy) # Can be negative sometimes due to outlier\n",
    "print('Median Accuracy on test data:', MedianAccuracy)\n",
    "\n",
    "\n",
    "# Defining a custom function to calculate accuracy\n",
    "# Make sure there are no zeros in the Target variable if you are using MAPE\n",
    "def Accuracy_Score(orig,pred):\n",
    "    MAPE = np.mean(100 * (np.abs(orig-pred)/orig))\n",
    "    #print('#'*70,'Accuracy:', 100-MAPE)\n",
    "    return(100-MAPE)\n",
    "\n",
    "# Custom Scoring MAPE calculation\n",
    "from sklearn.metrics import make_scorer\n",
    "custom_Scoring=make_scorer(Accuracy_Score, greater_is_better=True)\n",
    "\n",
    "# Importing cross validation function from sklearn\n",
    "from sklearn.model_selection import cross_val_score\n",
    "\n",
    "# Running 10-Fold Cross validation on a given algorithm\n",
    "# Passing full data X and y because the K-fold will split the data and automatically choose train/test\n",
    "Accuracy_Values=cross_val_score(RegModel, X , y, cv=10, scoring=custom_Scoring)\n",
    "print('\\nAccuracy values for 10-fold Cross Validation:\\n',Accuracy_Values)\n",
    "print('\\nFinal Average Accuracy of the model:', round(Accuracy_Values.mean(),2))"
   ]
  },
  {
   "cell_type": "markdown",
   "id": "714df08f-4659-4530-a307-27a8b2a25048",
   "metadata": {},
   "source": [
    "The Decision Tree model shows higher accuracy compared to the Linear Regression model. However, the Decision Tree model is overfitted, so we will opt for the Linear Regression model instead. Additionally, \"Power,\" \"Kilometers_Driven,\" and \"Engine\" are the top three predictors of car price."
   ]
  },
  {
   "cell_type": "code",
   "execution_count": null,
   "id": "e850a934-a5e9-4045-9edf-b21a0722293c",
   "metadata": {},
   "outputs": [],
   "source": []
  }
 ],
 "metadata": {
  "kernelspec": {
   "display_name": "Python 3 (ipykernel)",
   "language": "python",
   "name": "python3"
  },
  "language_info": {
   "codemirror_mode": {
    "name": "ipython",
    "version": 3
   },
   "file_extension": ".py",
   "mimetype": "text/x-python",
   "name": "python",
   "nbconvert_exporter": "python",
   "pygments_lexer": "ipython3",
   "version": "3.11.5"
  }
 },
 "nbformat": 4,
 "nbformat_minor": 5
}
